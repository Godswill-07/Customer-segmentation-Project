{
 "cells": [
  {
   "cell_type": "code",
   "execution_count": 4,
   "id": "26f849bc",
   "metadata": {},
   "outputs": [],
   "source": [
    "import pandas as pd\n",
    "import numpy as np\n",
    "import matplotlib.pyplot as plt\n",
    "import seaborn as sns"
   ]
  },
  {
   "cell_type": "code",
   "execution_count": 5,
   "id": "47a65d7f",
   "metadata": {},
   "outputs": [],
   "source": [
    "#import the file\n",
    "file = pd.read_csv('customer_segmentation.csv')"
   ]
  },
  {
   "cell_type": "code",
   "execution_count": 6,
   "id": "de2f715b",
   "metadata": {},
   "outputs": [
    {
     "data": {
      "text/html": [
       "<div>\n",
       "<style scoped>\n",
       "    .dataframe tbody tr th:only-of-type {\n",
       "        vertical-align: middle;\n",
       "    }\n",
       "\n",
       "    .dataframe tbody tr th {\n",
       "        vertical-align: top;\n",
       "    }\n",
       "\n",
       "    .dataframe thead th {\n",
       "        text-align: right;\n",
       "    }\n",
       "</style>\n",
       "<table border=\"1\" class=\"dataframe\">\n",
       "  <thead>\n",
       "    <tr style=\"text-align: right;\">\n",
       "      <th></th>\n",
       "      <th>ID</th>\n",
       "      <th>Year_Birth</th>\n",
       "      <th>Education</th>\n",
       "      <th>Marital_Status</th>\n",
       "      <th>Income</th>\n",
       "      <th>Kidhome</th>\n",
       "      <th>Teenhome</th>\n",
       "      <th>Dt_Customer</th>\n",
       "      <th>Recency</th>\n",
       "      <th>MntWines</th>\n",
       "      <th>...</th>\n",
       "      <th>NumWebVisitsMonth</th>\n",
       "      <th>AcceptedCmp3</th>\n",
       "      <th>AcceptedCmp4</th>\n",
       "      <th>AcceptedCmp5</th>\n",
       "      <th>AcceptedCmp1</th>\n",
       "      <th>AcceptedCmp2</th>\n",
       "      <th>Complain</th>\n",
       "      <th>Z_CostContact</th>\n",
       "      <th>Z_Revenue</th>\n",
       "      <th>Response</th>\n",
       "    </tr>\n",
       "  </thead>\n",
       "  <tbody>\n",
       "    <tr>\n",
       "      <th>0</th>\n",
       "      <td>5524</td>\n",
       "      <td>1957</td>\n",
       "      <td>Graduation</td>\n",
       "      <td>Single</td>\n",
       "      <td>58138.0</td>\n",
       "      <td>0</td>\n",
       "      <td>0</td>\n",
       "      <td>04-09-2012</td>\n",
       "      <td>58</td>\n",
       "      <td>635</td>\n",
       "      <td>...</td>\n",
       "      <td>7</td>\n",
       "      <td>0</td>\n",
       "      <td>0</td>\n",
       "      <td>0</td>\n",
       "      <td>0</td>\n",
       "      <td>0</td>\n",
       "      <td>0</td>\n",
       "      <td>3</td>\n",
       "      <td>11</td>\n",
       "      <td>1</td>\n",
       "    </tr>\n",
       "    <tr>\n",
       "      <th>1</th>\n",
       "      <td>2174</td>\n",
       "      <td>1954</td>\n",
       "      <td>Graduation</td>\n",
       "      <td>Single</td>\n",
       "      <td>46344.0</td>\n",
       "      <td>1</td>\n",
       "      <td>1</td>\n",
       "      <td>08-03-2014</td>\n",
       "      <td>38</td>\n",
       "      <td>11</td>\n",
       "      <td>...</td>\n",
       "      <td>5</td>\n",
       "      <td>0</td>\n",
       "      <td>0</td>\n",
       "      <td>0</td>\n",
       "      <td>0</td>\n",
       "      <td>0</td>\n",
       "      <td>0</td>\n",
       "      <td>3</td>\n",
       "      <td>11</td>\n",
       "      <td>0</td>\n",
       "    </tr>\n",
       "    <tr>\n",
       "      <th>2</th>\n",
       "      <td>4141</td>\n",
       "      <td>1965</td>\n",
       "      <td>Graduation</td>\n",
       "      <td>Together</td>\n",
       "      <td>71613.0</td>\n",
       "      <td>0</td>\n",
       "      <td>0</td>\n",
       "      <td>21-08-2013</td>\n",
       "      <td>26</td>\n",
       "      <td>426</td>\n",
       "      <td>...</td>\n",
       "      <td>4</td>\n",
       "      <td>0</td>\n",
       "      <td>0</td>\n",
       "      <td>0</td>\n",
       "      <td>0</td>\n",
       "      <td>0</td>\n",
       "      <td>0</td>\n",
       "      <td>3</td>\n",
       "      <td>11</td>\n",
       "      <td>0</td>\n",
       "    </tr>\n",
       "    <tr>\n",
       "      <th>3</th>\n",
       "      <td>6182</td>\n",
       "      <td>1984</td>\n",
       "      <td>Graduation</td>\n",
       "      <td>Together</td>\n",
       "      <td>26646.0</td>\n",
       "      <td>1</td>\n",
       "      <td>0</td>\n",
       "      <td>10-02-2014</td>\n",
       "      <td>26</td>\n",
       "      <td>11</td>\n",
       "      <td>...</td>\n",
       "      <td>6</td>\n",
       "      <td>0</td>\n",
       "      <td>0</td>\n",
       "      <td>0</td>\n",
       "      <td>0</td>\n",
       "      <td>0</td>\n",
       "      <td>0</td>\n",
       "      <td>3</td>\n",
       "      <td>11</td>\n",
       "      <td>0</td>\n",
       "    </tr>\n",
       "    <tr>\n",
       "      <th>4</th>\n",
       "      <td>5324</td>\n",
       "      <td>1981</td>\n",
       "      <td>PhD</td>\n",
       "      <td>Married</td>\n",
       "      <td>58293.0</td>\n",
       "      <td>1</td>\n",
       "      <td>0</td>\n",
       "      <td>19-01-2014</td>\n",
       "      <td>94</td>\n",
       "      <td>173</td>\n",
       "      <td>...</td>\n",
       "      <td>5</td>\n",
       "      <td>0</td>\n",
       "      <td>0</td>\n",
       "      <td>0</td>\n",
       "      <td>0</td>\n",
       "      <td>0</td>\n",
       "      <td>0</td>\n",
       "      <td>3</td>\n",
       "      <td>11</td>\n",
       "      <td>0</td>\n",
       "    </tr>\n",
       "  </tbody>\n",
       "</table>\n",
       "<p>5 rows × 29 columns</p>\n",
       "</div>"
      ],
      "text/plain": [
       "     ID  Year_Birth   Education Marital_Status   Income  Kidhome  Teenhome  \\\n",
       "0  5524        1957  Graduation         Single  58138.0        0         0   \n",
       "1  2174        1954  Graduation         Single  46344.0        1         1   \n",
       "2  4141        1965  Graduation       Together  71613.0        0         0   \n",
       "3  6182        1984  Graduation       Together  26646.0        1         0   \n",
       "4  5324        1981         PhD        Married  58293.0        1         0   \n",
       "\n",
       "  Dt_Customer  Recency  MntWines  ...  NumWebVisitsMonth  AcceptedCmp3  \\\n",
       "0  04-09-2012       58       635  ...                  7             0   \n",
       "1  08-03-2014       38        11  ...                  5             0   \n",
       "2  21-08-2013       26       426  ...                  4             0   \n",
       "3  10-02-2014       26        11  ...                  6             0   \n",
       "4  19-01-2014       94       173  ...                  5             0   \n",
       "\n",
       "   AcceptedCmp4  AcceptedCmp5  AcceptedCmp1  AcceptedCmp2  Complain  \\\n",
       "0             0             0             0             0         0   \n",
       "1             0             0             0             0         0   \n",
       "2             0             0             0             0         0   \n",
       "3             0             0             0             0         0   \n",
       "4             0             0             0             0         0   \n",
       "\n",
       "   Z_CostContact  Z_Revenue  Response  \n",
       "0              3         11         1  \n",
       "1              3         11         0  \n",
       "2              3         11         0  \n",
       "3              3         11         0  \n",
       "4              3         11         0  \n",
       "\n",
       "[5 rows x 29 columns]"
      ]
     },
     "execution_count": 6,
     "metadata": {},
     "output_type": "execute_result"
    }
   ],
   "source": [
    "file.head()"
   ]
  },
  {
   "cell_type": "code",
   "execution_count": 7,
   "id": "6e4e399d",
   "metadata": {},
   "outputs": [
    {
     "data": {
      "text/plain": [
       "Index(['ID', 'Year_Birth', 'Education', 'Marital_Status', 'Income', 'Kidhome',\n",
       "       'Teenhome', 'Dt_Customer', 'Recency', 'MntWines', 'MntFruits',\n",
       "       'MntMeatProducts', 'MntFishProducts', 'MntSweetProducts',\n",
       "       'MntGoldProds', 'NumDealsPurchases', 'NumWebPurchases',\n",
       "       'NumCatalogPurchases', 'NumStorePurchases', 'NumWebVisitsMonth',\n",
       "       'AcceptedCmp3', 'AcceptedCmp4', 'AcceptedCmp5', 'AcceptedCmp1',\n",
       "       'AcceptedCmp2', 'Complain', 'Z_CostContact', 'Z_Revenue', 'Response'],\n",
       "      dtype='object')"
      ]
     },
     "execution_count": 7,
     "metadata": {},
     "output_type": "execute_result"
    }
   ],
   "source": [
    "#The columns of the file\n",
    "file.columns"
   ]
  },
  {
   "cell_type": "code",
   "execution_count": 8,
   "id": "d6d5f16c",
   "metadata": {},
   "outputs": [
    {
     "data": {
      "text/plain": [
       "(2240, 29)"
      ]
     },
     "execution_count": 8,
     "metadata": {},
     "output_type": "execute_result"
    }
   ],
   "source": [
    "# The number of rows and columns\n",
    "file.shape"
   ]
  },
  {
   "cell_type": "code",
   "execution_count": 10,
   "id": "df44aea1",
   "metadata": {},
   "outputs": [
    {
     "name": "stdout",
     "output_type": "stream",
     "text": [
      "<class 'pandas.core.frame.DataFrame'>\n",
      "RangeIndex: 2240 entries, 0 to 2239\n",
      "Data columns (total 29 columns):\n",
      " #   Column               Non-Null Count  Dtype  \n",
      "---  ------               --------------  -----  \n",
      " 0   ID                   2240 non-null   int64  \n",
      " 1   Year_Birth           2240 non-null   int64  \n",
      " 2   Education            2240 non-null   object \n",
      " 3   Marital_Status       2240 non-null   object \n",
      " 4   Income               2216 non-null   float64\n",
      " 5   Kidhome              2240 non-null   int64  \n",
      " 6   Teenhome             2240 non-null   int64  \n",
      " 7   Dt_Customer          2240 non-null   object \n",
      " 8   Recency              2240 non-null   int64  \n",
      " 9   MntWines             2240 non-null   int64  \n",
      " 10  MntFruits            2240 non-null   int64  \n",
      " 11  MntMeatProducts      2240 non-null   int64  \n",
      " 12  MntFishProducts      2240 non-null   int64  \n",
      " 13  MntSweetProducts     2240 non-null   int64  \n",
      " 14  MntGoldProds         2240 non-null   int64  \n",
      " 15  NumDealsPurchases    2240 non-null   int64  \n",
      " 16  NumWebPurchases      2240 non-null   int64  \n",
      " 17  NumCatalogPurchases  2240 non-null   int64  \n",
      " 18  NumStorePurchases    2240 non-null   int64  \n",
      " 19  NumWebVisitsMonth    2240 non-null   int64  \n",
      " 20  AcceptedCmp3         2240 non-null   int64  \n",
      " 21  AcceptedCmp4         2240 non-null   int64  \n",
      " 22  AcceptedCmp5         2240 non-null   int64  \n",
      " 23  AcceptedCmp1         2240 non-null   int64  \n",
      " 24  AcceptedCmp2         2240 non-null   int64  \n",
      " 25  Complain             2240 non-null   int64  \n",
      " 26  Z_CostContact        2240 non-null   int64  \n",
      " 27  Z_Revenue            2240 non-null   int64  \n",
      " 28  Response             2240 non-null   int64  \n",
      "dtypes: float64(1), int64(25), object(3)\n",
      "memory usage: 507.6+ KB\n"
     ]
    }
   ],
   "source": [
    "file.info()"
   ]
  },
  {
   "cell_type": "code",
   "execution_count": 11,
   "id": "c077066f",
   "metadata": {},
   "outputs": [
    {
     "data": {
      "text/plain": [
       "ID                      0\n",
       "Year_Birth              0\n",
       "Education               0\n",
       "Marital_Status          0\n",
       "Income                 24\n",
       "Kidhome                 0\n",
       "Teenhome                0\n",
       "Dt_Customer             0\n",
       "Recency                 0\n",
       "MntWines                0\n",
       "MntFruits               0\n",
       "MntMeatProducts         0\n",
       "MntFishProducts         0\n",
       "MntSweetProducts        0\n",
       "MntGoldProds            0\n",
       "NumDealsPurchases       0\n",
       "NumWebPurchases         0\n",
       "NumCatalogPurchases     0\n",
       "NumStorePurchases       0\n",
       "NumWebVisitsMonth       0\n",
       "AcceptedCmp3            0\n",
       "AcceptedCmp4            0\n",
       "AcceptedCmp5            0\n",
       "AcceptedCmp1            0\n",
       "AcceptedCmp2            0\n",
       "Complain                0\n",
       "Z_CostContact           0\n",
       "Z_Revenue               0\n",
       "Response                0\n",
       "dtype: int64"
      ]
     },
     "execution_count": 11,
     "metadata": {},
     "output_type": "execute_result"
    }
   ],
   "source": [
    "#check for missing values\n",
    "file.isna().sum()"
   ]
  },
  {
   "cell_type": "code",
   "execution_count": null,
   "id": "22eeb564",
   "metadata": {},
   "outputs": [],
   "source": [
    "# Drop missing values\n",
    "file = file.dropna()"
   ]
  },
  {
   "cell_type": "code",
   "execution_count": 13,
   "id": "716938ae",
   "metadata": {},
   "outputs": [
    {
     "data": {
      "text/html": [
       "<div>\n",
       "<style scoped>\n",
       "    .dataframe tbody tr th:only-of-type {\n",
       "        vertical-align: middle;\n",
       "    }\n",
       "\n",
       "    .dataframe tbody tr th {\n",
       "        vertical-align: top;\n",
       "    }\n",
       "\n",
       "    .dataframe thead th {\n",
       "        text-align: right;\n",
       "    }\n",
       "</style>\n",
       "<table border=\"1\" class=\"dataframe\">\n",
       "  <thead>\n",
       "    <tr style=\"text-align: right;\">\n",
       "      <th></th>\n",
       "      <th>ID</th>\n",
       "      <th>Year_Birth</th>\n",
       "      <th>Income</th>\n",
       "      <th>Kidhome</th>\n",
       "      <th>Teenhome</th>\n",
       "      <th>Recency</th>\n",
       "      <th>MntWines</th>\n",
       "      <th>MntFruits</th>\n",
       "      <th>MntMeatProducts</th>\n",
       "      <th>MntFishProducts</th>\n",
       "      <th>...</th>\n",
       "      <th>NumWebVisitsMonth</th>\n",
       "      <th>AcceptedCmp3</th>\n",
       "      <th>AcceptedCmp4</th>\n",
       "      <th>AcceptedCmp5</th>\n",
       "      <th>AcceptedCmp1</th>\n",
       "      <th>AcceptedCmp2</th>\n",
       "      <th>Complain</th>\n",
       "      <th>Z_CostContact</th>\n",
       "      <th>Z_Revenue</th>\n",
       "      <th>Response</th>\n",
       "    </tr>\n",
       "  </thead>\n",
       "  <tbody>\n",
       "    <tr>\n",
       "      <th>count</th>\n",
       "      <td>2216.000000</td>\n",
       "      <td>2216.000000</td>\n",
       "      <td>2216.000000</td>\n",
       "      <td>2216.000000</td>\n",
       "      <td>2216.000000</td>\n",
       "      <td>2216.000000</td>\n",
       "      <td>2216.000000</td>\n",
       "      <td>2216.000000</td>\n",
       "      <td>2216.000000</td>\n",
       "      <td>2216.000000</td>\n",
       "      <td>...</td>\n",
       "      <td>2216.000000</td>\n",
       "      <td>2216.000000</td>\n",
       "      <td>2216.000000</td>\n",
       "      <td>2216.000000</td>\n",
       "      <td>2216.000000</td>\n",
       "      <td>2216.000000</td>\n",
       "      <td>2216.000000</td>\n",
       "      <td>2216.0</td>\n",
       "      <td>2216.0</td>\n",
       "      <td>2216.000000</td>\n",
       "    </tr>\n",
       "    <tr>\n",
       "      <th>mean</th>\n",
       "      <td>5588.353339</td>\n",
       "      <td>1968.820397</td>\n",
       "      <td>52247.251354</td>\n",
       "      <td>0.441787</td>\n",
       "      <td>0.505415</td>\n",
       "      <td>49.012635</td>\n",
       "      <td>305.091606</td>\n",
       "      <td>26.356047</td>\n",
       "      <td>166.995939</td>\n",
       "      <td>37.637635</td>\n",
       "      <td>...</td>\n",
       "      <td>5.319043</td>\n",
       "      <td>0.073556</td>\n",
       "      <td>0.074007</td>\n",
       "      <td>0.073105</td>\n",
       "      <td>0.064079</td>\n",
       "      <td>0.013538</td>\n",
       "      <td>0.009477</td>\n",
       "      <td>3.0</td>\n",
       "      <td>11.0</td>\n",
       "      <td>0.150271</td>\n",
       "    </tr>\n",
       "    <tr>\n",
       "      <th>std</th>\n",
       "      <td>3249.376275</td>\n",
       "      <td>11.985554</td>\n",
       "      <td>25173.076661</td>\n",
       "      <td>0.536896</td>\n",
       "      <td>0.544181</td>\n",
       "      <td>28.948352</td>\n",
       "      <td>337.327920</td>\n",
       "      <td>39.793917</td>\n",
       "      <td>224.283273</td>\n",
       "      <td>54.752082</td>\n",
       "      <td>...</td>\n",
       "      <td>2.425359</td>\n",
       "      <td>0.261106</td>\n",
       "      <td>0.261842</td>\n",
       "      <td>0.260367</td>\n",
       "      <td>0.244950</td>\n",
       "      <td>0.115588</td>\n",
       "      <td>0.096907</td>\n",
       "      <td>0.0</td>\n",
       "      <td>0.0</td>\n",
       "      <td>0.357417</td>\n",
       "    </tr>\n",
       "    <tr>\n",
       "      <th>min</th>\n",
       "      <td>0.000000</td>\n",
       "      <td>1893.000000</td>\n",
       "      <td>1730.000000</td>\n",
       "      <td>0.000000</td>\n",
       "      <td>0.000000</td>\n",
       "      <td>0.000000</td>\n",
       "      <td>0.000000</td>\n",
       "      <td>0.000000</td>\n",
       "      <td>0.000000</td>\n",
       "      <td>0.000000</td>\n",
       "      <td>...</td>\n",
       "      <td>0.000000</td>\n",
       "      <td>0.000000</td>\n",
       "      <td>0.000000</td>\n",
       "      <td>0.000000</td>\n",
       "      <td>0.000000</td>\n",
       "      <td>0.000000</td>\n",
       "      <td>0.000000</td>\n",
       "      <td>3.0</td>\n",
       "      <td>11.0</td>\n",
       "      <td>0.000000</td>\n",
       "    </tr>\n",
       "    <tr>\n",
       "      <th>25%</th>\n",
       "      <td>2814.750000</td>\n",
       "      <td>1959.000000</td>\n",
       "      <td>35303.000000</td>\n",
       "      <td>0.000000</td>\n",
       "      <td>0.000000</td>\n",
       "      <td>24.000000</td>\n",
       "      <td>24.000000</td>\n",
       "      <td>2.000000</td>\n",
       "      <td>16.000000</td>\n",
       "      <td>3.000000</td>\n",
       "      <td>...</td>\n",
       "      <td>3.000000</td>\n",
       "      <td>0.000000</td>\n",
       "      <td>0.000000</td>\n",
       "      <td>0.000000</td>\n",
       "      <td>0.000000</td>\n",
       "      <td>0.000000</td>\n",
       "      <td>0.000000</td>\n",
       "      <td>3.0</td>\n",
       "      <td>11.0</td>\n",
       "      <td>0.000000</td>\n",
       "    </tr>\n",
       "    <tr>\n",
       "      <th>50%</th>\n",
       "      <td>5458.500000</td>\n",
       "      <td>1970.000000</td>\n",
       "      <td>51381.500000</td>\n",
       "      <td>0.000000</td>\n",
       "      <td>0.000000</td>\n",
       "      <td>49.000000</td>\n",
       "      <td>174.500000</td>\n",
       "      <td>8.000000</td>\n",
       "      <td>68.000000</td>\n",
       "      <td>12.000000</td>\n",
       "      <td>...</td>\n",
       "      <td>6.000000</td>\n",
       "      <td>0.000000</td>\n",
       "      <td>0.000000</td>\n",
       "      <td>0.000000</td>\n",
       "      <td>0.000000</td>\n",
       "      <td>0.000000</td>\n",
       "      <td>0.000000</td>\n",
       "      <td>3.0</td>\n",
       "      <td>11.0</td>\n",
       "      <td>0.000000</td>\n",
       "    </tr>\n",
       "    <tr>\n",
       "      <th>75%</th>\n",
       "      <td>8421.750000</td>\n",
       "      <td>1977.000000</td>\n",
       "      <td>68522.000000</td>\n",
       "      <td>1.000000</td>\n",
       "      <td>1.000000</td>\n",
       "      <td>74.000000</td>\n",
       "      <td>505.000000</td>\n",
       "      <td>33.000000</td>\n",
       "      <td>232.250000</td>\n",
       "      <td>50.000000</td>\n",
       "      <td>...</td>\n",
       "      <td>7.000000</td>\n",
       "      <td>0.000000</td>\n",
       "      <td>0.000000</td>\n",
       "      <td>0.000000</td>\n",
       "      <td>0.000000</td>\n",
       "      <td>0.000000</td>\n",
       "      <td>0.000000</td>\n",
       "      <td>3.0</td>\n",
       "      <td>11.0</td>\n",
       "      <td>0.000000</td>\n",
       "    </tr>\n",
       "    <tr>\n",
       "      <th>max</th>\n",
       "      <td>11191.000000</td>\n",
       "      <td>1996.000000</td>\n",
       "      <td>666666.000000</td>\n",
       "      <td>2.000000</td>\n",
       "      <td>2.000000</td>\n",
       "      <td>99.000000</td>\n",
       "      <td>1493.000000</td>\n",
       "      <td>199.000000</td>\n",
       "      <td>1725.000000</td>\n",
       "      <td>259.000000</td>\n",
       "      <td>...</td>\n",
       "      <td>20.000000</td>\n",
       "      <td>1.000000</td>\n",
       "      <td>1.000000</td>\n",
       "      <td>1.000000</td>\n",
       "      <td>1.000000</td>\n",
       "      <td>1.000000</td>\n",
       "      <td>1.000000</td>\n",
       "      <td>3.0</td>\n",
       "      <td>11.0</td>\n",
       "      <td>1.000000</td>\n",
       "    </tr>\n",
       "  </tbody>\n",
       "</table>\n",
       "<p>8 rows × 26 columns</p>\n",
       "</div>"
      ],
      "text/plain": [
       "                 ID   Year_Birth         Income      Kidhome     Teenhome  \\\n",
       "count   2216.000000  2216.000000    2216.000000  2216.000000  2216.000000   \n",
       "mean    5588.353339  1968.820397   52247.251354     0.441787     0.505415   \n",
       "std     3249.376275    11.985554   25173.076661     0.536896     0.544181   \n",
       "min        0.000000  1893.000000    1730.000000     0.000000     0.000000   \n",
       "25%     2814.750000  1959.000000   35303.000000     0.000000     0.000000   \n",
       "50%     5458.500000  1970.000000   51381.500000     0.000000     0.000000   \n",
       "75%     8421.750000  1977.000000   68522.000000     1.000000     1.000000   \n",
       "max    11191.000000  1996.000000  666666.000000     2.000000     2.000000   \n",
       "\n",
       "           Recency     MntWines    MntFruits  MntMeatProducts  \\\n",
       "count  2216.000000  2216.000000  2216.000000      2216.000000   \n",
       "mean     49.012635   305.091606    26.356047       166.995939   \n",
       "std      28.948352   337.327920    39.793917       224.283273   \n",
       "min       0.000000     0.000000     0.000000         0.000000   \n",
       "25%      24.000000    24.000000     2.000000        16.000000   \n",
       "50%      49.000000   174.500000     8.000000        68.000000   \n",
       "75%      74.000000   505.000000    33.000000       232.250000   \n",
       "max      99.000000  1493.000000   199.000000      1725.000000   \n",
       "\n",
       "       MntFishProducts  ...  NumWebVisitsMonth  AcceptedCmp3  AcceptedCmp4  \\\n",
       "count      2216.000000  ...        2216.000000   2216.000000   2216.000000   \n",
       "mean         37.637635  ...           5.319043      0.073556      0.074007   \n",
       "std          54.752082  ...           2.425359      0.261106      0.261842   \n",
       "min           0.000000  ...           0.000000      0.000000      0.000000   \n",
       "25%           3.000000  ...           3.000000      0.000000      0.000000   \n",
       "50%          12.000000  ...           6.000000      0.000000      0.000000   \n",
       "75%          50.000000  ...           7.000000      0.000000      0.000000   \n",
       "max         259.000000  ...          20.000000      1.000000      1.000000   \n",
       "\n",
       "       AcceptedCmp5  AcceptedCmp1  AcceptedCmp2     Complain  Z_CostContact  \\\n",
       "count   2216.000000   2216.000000   2216.000000  2216.000000         2216.0   \n",
       "mean       0.073105      0.064079      0.013538     0.009477            3.0   \n",
       "std        0.260367      0.244950      0.115588     0.096907            0.0   \n",
       "min        0.000000      0.000000      0.000000     0.000000            3.0   \n",
       "25%        0.000000      0.000000      0.000000     0.000000            3.0   \n",
       "50%        0.000000      0.000000      0.000000     0.000000            3.0   \n",
       "75%        0.000000      0.000000      0.000000     0.000000            3.0   \n",
       "max        1.000000      1.000000      1.000000     1.000000            3.0   \n",
       "\n",
       "       Z_Revenue     Response  \n",
       "count     2216.0  2216.000000  \n",
       "mean        11.0     0.150271  \n",
       "std          0.0     0.357417  \n",
       "min         11.0     0.000000  \n",
       "25%         11.0     0.000000  \n",
       "50%         11.0     0.000000  \n",
       "75%         11.0     0.000000  \n",
       "max         11.0     1.000000  \n",
       "\n",
       "[8 rows x 26 columns]"
      ]
     },
     "execution_count": 13,
     "metadata": {},
     "output_type": "execute_result"
    }
   ],
   "source": [
    "file.describe()"
   ]
  },
  {
   "cell_type": "code",
   "execution_count": 15,
   "id": "5adb564f",
   "metadata": {},
   "outputs": [
    {
     "data": {
      "text/plain": [
       "Education\n",
       "Graduation    1116\n",
       "PhD            481\n",
       "Master         365\n",
       "2n Cycle       200\n",
       "Basic           54\n",
       "Name: count, dtype: int64"
      ]
     },
     "execution_count": 15,
     "metadata": {},
     "output_type": "execute_result"
    }
   ],
   "source": [
    "file['Education'].value_counts()"
   ]
  },
  {
   "cell_type": "code",
   "execution_count": 18,
   "id": "6fcbc5fb",
   "metadata": {},
   "outputs": [
    {
     "data": {
      "text/plain": [
       "Marital_Status\n",
       "Married     857\n",
       "Together    573\n",
       "Single      471\n",
       "Divorced    232\n",
       "Widow        76\n",
       "Alone         3\n",
       "Absurd        2\n",
       "YOLO          2\n",
       "Name: count, dtype: int64"
      ]
     },
     "execution_count": 18,
     "metadata": {},
     "output_type": "execute_result"
    }
   ],
   "source": [
    "file['Marital_Status'].value_counts()"
   ]
  },
  {
   "cell_type": "markdown",
   "id": "8efc67f5",
   "metadata": {},
   "source": [
    "# Data Cleaning and Feature Engineering"
   ]
  },
  {
   "cell_type": "code",
   "execution_count": 35,
   "id": "c42ddc08",
   "metadata": {},
   "outputs": [
    {
     "name": "stderr",
     "output_type": "stream",
     "text": [
      "C:\\Users\\HP\\AppData\\Local\\Temp\\ipykernel_6264\\632254766.py:2: SettingWithCopyWarning: \n",
      "A value is trying to be set on a copy of a slice from a DataFrame.\n",
      "Try using .loc[row_indexer,col_indexer] = value instead\n",
      "\n",
      "See the caveats in the documentation: https://pandas.pydata.org/pandas-docs/stable/user_guide/indexing.html#returning-a-view-versus-a-copy\n",
      "  file['Dt_Customer'] = pd.to_datetime(file['Dt_Customer'],dayfirst = True)\n"
     ]
    }
   ],
   "source": [
    "# Converts from object to datetime \n",
    "file['Dt_Customer'] = pd.to_datetime(file['Dt_Customer'],dayfirst = True)"
   ]
  },
  {
   "cell_type": "code",
   "execution_count": 36,
   "id": "21391b6e",
   "metadata": {},
   "outputs": [
    {
     "name": "stderr",
     "output_type": "stream",
     "text": [
      "C:\\Users\\HP\\AppData\\Local\\Temp\\ipykernel_6264\\891248598.py:1: SettingWithCopyWarning: \n",
      "A value is trying to be set on a copy of a slice from a DataFrame.\n",
      "Try using .loc[row_indexer,col_indexer] = value instead\n",
      "\n",
      "See the caveats in the documentation: https://pandas.pydata.org/pandas-docs/stable/user_guide/indexing.html#returning-a-view-versus-a-copy\n",
      "  file['Age'] = 2025 - file['Year_Birth']\n"
     ]
    }
   ],
   "source": [
    "file['Age'] = 2025 - file['Year_Birth']"
   ]
  },
  {
   "cell_type": "code",
   "execution_count": 37,
   "id": "9d06edeb",
   "metadata": {},
   "outputs": [
    {
     "data": {
      "text/plain": [
       "0       68\n",
       "1       71\n",
       "2       60\n",
       "3       41\n",
       "4       44\n",
       "        ..\n",
       "2235    58\n",
       "2236    79\n",
       "2237    44\n",
       "2238    69\n",
       "2239    71\n",
       "Name: Age, Length: 2216, dtype: int64"
      ]
     },
     "execution_count": 37,
     "metadata": {},
     "output_type": "execute_result"
    }
   ],
   "source": [
    "file['Age']"
   ]
  },
  {
   "cell_type": "code",
   "execution_count": 38,
   "id": "ef58001b",
   "metadata": {},
   "outputs": [
    {
     "name": "stderr",
     "output_type": "stream",
     "text": [
      "C:\\Users\\HP\\AppData\\Local\\Temp\\ipykernel_6264\\4094205193.py:1: SettingWithCopyWarning: \n",
      "A value is trying to be set on a copy of a slice from a DataFrame.\n",
      "Try using .loc[row_indexer,col_indexer] = value instead\n",
      "\n",
      "See the caveats in the documentation: https://pandas.pydata.org/pandas-docs/stable/user_guide/indexing.html#returning-a-view-versus-a-copy\n",
      "  file['Total_Children'] = file['Kidhome'] + file['Teenhome']\n"
     ]
    }
   ],
   "source": [
    "file['Total_Children'] = file['Kidhome'] + file['Teenhome']"
   ]
  },
  {
   "cell_type": "code",
   "execution_count": 39,
   "id": "56da3256",
   "metadata": {},
   "outputs": [
    {
     "data": {
      "text/plain": [
       "0       0\n",
       "1       2\n",
       "2       0\n",
       "3       1\n",
       "4       1\n",
       "       ..\n",
       "2235    1\n",
       "2236    3\n",
       "2237    0\n",
       "2238    1\n",
       "2239    2\n",
       "Name: Total_Children, Length: 2216, dtype: int64"
      ]
     },
     "execution_count": 39,
     "metadata": {},
     "output_type": "execute_result"
    }
   ],
   "source": [
    "file['Total_Children']"
   ]
  },
  {
   "cell_type": "code",
   "execution_count": 40,
   "id": "3c769dbb",
   "metadata": {},
   "outputs": [],
   "source": [
    "spending_cols = ['MntWines','MntFruits','MntMeatProducts','MntFishProducts','MntSweetProducts','MntGoldProds']"
   ]
  },
  {
   "cell_type": "code",
   "execution_count": 41,
   "id": "92885a16",
   "metadata": {},
   "outputs": [
    {
     "name": "stderr",
     "output_type": "stream",
     "text": [
      "C:\\Users\\HP\\AppData\\Local\\Temp\\ipykernel_6264\\2685195194.py:1: SettingWithCopyWarning: \n",
      "A value is trying to be set on a copy of a slice from a DataFrame.\n",
      "Try using .loc[row_indexer,col_indexer] = value instead\n",
      "\n",
      "See the caveats in the documentation: https://pandas.pydata.org/pandas-docs/stable/user_guide/indexing.html#returning-a-view-versus-a-copy\n",
      "  file['Total_Spending'] = file[spending_cols].sum(axis = 1)\n"
     ]
    }
   ],
   "source": [
    "file['Total_Spending'] = file[spending_cols].sum(axis = 1)"
   ]
  },
  {
   "cell_type": "code",
   "execution_count": 43,
   "id": "1a6769fb",
   "metadata": {},
   "outputs": [
    {
     "data": {
      "text/plain": [
       "0       1617\n",
       "1         27\n",
       "2        776\n",
       "3         53\n",
       "4        422\n",
       "        ... \n",
       "2235    1341\n",
       "2236     444\n",
       "2237    1241\n",
       "2238     843\n",
       "2239     172\n",
       "Name: Total_Spending, Length: 2216, dtype: int64"
      ]
     },
     "execution_count": 43,
     "metadata": {},
     "output_type": "execute_result"
    }
   ],
   "source": [
    "file['Total_Spending']"
   ]
  },
  {
   "cell_type": "code",
   "execution_count": 44,
   "id": "3987baf8",
   "metadata": {},
   "outputs": [
    {
     "name": "stderr",
     "output_type": "stream",
     "text": [
      "C:\\Users\\HP\\AppData\\Local\\Temp\\ipykernel_6264\\2434752963.py:2: SettingWithCopyWarning: \n",
      "A value is trying to be set on a copy of a slice from a DataFrame.\n",
      "Try using .loc[row_indexer,col_indexer] = value instead\n",
      "\n",
      "See the caveats in the documentation: https://pandas.pydata.org/pandas-docs/stable/user_guide/indexing.html#returning-a-view-versus-a-copy\n",
      "  file['Customer_Since'] = (pd.Timestamp('today') - file['Dt_Customer']).dt.days\n"
     ]
    }
   ],
   "source": [
    "# To check how long the customer has stayed in the company in days\n",
    "file['Customer_Since'] = (pd.Timestamp('today') - file['Dt_Customer']).dt.days"
   ]
  },
  {
   "cell_type": "code",
   "execution_count": 45,
   "id": "c66e009e",
   "metadata": {},
   "outputs": [
    {
     "data": {
      "text/plain": [
       "0       4784\n",
       "1       4234\n",
       "2       4433\n",
       "3       4260\n",
       "4       4282\n",
       "        ... \n",
       "2235    4502\n",
       "2236    4140\n",
       "2237    4276\n",
       "2238    4277\n",
       "2239    4743\n",
       "Name: Customer_Since, Length: 2216, dtype: int64"
      ]
     },
     "execution_count": 45,
     "metadata": {},
     "output_type": "execute_result"
    }
   ],
   "source": [
    "file['Customer_Since']"
   ]
  },
  {
   "cell_type": "markdown",
   "id": "194a031a",
   "metadata": {},
   "source": [
    "# Exploratory Data Analysis"
   ]
  },
  {
   "cell_type": "code",
   "execution_count": 47,
   "id": "92369599",
   "metadata": {},
   "outputs": [
    {
     "data": {
      "image/png": "[encoded data removed]",
      "text/plain": [
       "<Figure size 640x480 with 1 Axes>"
      ]
     },
     "metadata": {},
     "output_type": "display_data"
    }
   ],
   "source": [
    "sns.histplot(file['Age'], bins = 30, kde=True)\n",
    "plt.title('Age Distribution')\n",
    "plt.show()"
   ]
  },
  {
   "cell_type": "code",
   "execution_count": 48,
   "id": "bbc14073",
   "metadata": {},
   "outputs": [
    {
     "data": {
      "image/png": "[encoded data removed]",
      "text/plain": [
       "<Figure size 640x480 with 1 Axes>"
      ]
     },
     "metadata": {},
     "output_type": "display_data"
    }
   ],
   "source": [
    "sns.histplot(file['Income'], bins = 30, kde = True)\n",
    "plt.title('Income Distribution')\n",
    "plt.show()"
   ]
  },
  {
   "cell_type": "code",
   "execution_count": 49,
   "id": "8e49068c",
   "metadata": {},
   "outputs": [
    {
     "data": {
      "image/png": "[encoded data removed]",
      "text/plain": [
       "<Figure size 640x480 with 1 Axes>"
      ]
     },
     "metadata": {},
     "output_type": "display_data"
    }
   ],
   "source": [
    "sns.histplot(file['Total_Spending'], bins = 30, kde = True)\n",
    "plt.title('Total Spending Distribution')\n",
    "plt.show()"
   ]
  },
  {
   "cell_type": "code",
   "execution_count": 50,
   "id": "cf78e4cb",
   "metadata": {},
   "outputs": [
    {
     "data": {
      "image/png": "[encoded data removed]",
      "text/plain": [
       "<Figure size 640x480 with 1 Axes>"
      ]
     },
     "metadata": {},
     "output_type": "display_data"
    }
   ],
   "source": [
    "sns.boxplot(x = 'Education', y = 'Income', data = file)\n",
    "plt.xticks(rotation = 45)\n",
    "plt.title('Income by Education Level')\n",
    "plt.show()"
   ]
  },
  {
   "cell_type": "code",
   "execution_count": 54,
   "id": "c231860c",
   "metadata": {},
   "outputs": [
    {
     "data": {
      "image/png": "[encoded data removed]",
      "text/plain": [
       "<Figure size 640x480 with 1 Axes>"
      ]
     },
     "metadata": {},
     "output_type": "display_data"
    }
   ],
   "source": [
    "sns.boxplot(x= 'Marital_Status', y = 'Total_Spending', data = file)\n",
    "plt.xticks(rotation = 45)\n",
    "plt.title('Spending by Marital Status')\n",
    "plt.show()"
   ]
  },
  {
   "cell_type": "markdown",
   "id": "9e6b819a",
   "metadata": {},
   "source": [
    "# Correlation analysis  "
   ]
  },
  {
   "cell_type": "code",
   "execution_count": 63,
   "id": "b3bc06d3",
   "metadata": {},
   "outputs": [],
   "source": [
    "corr = file[['Income','Age','Recency','Total_Spending','NumWebPurchases','NumStorePurchases']].corr()"
   ]
  },
  {
   "cell_type": "code",
   "execution_count": 64,
   "id": "684be16f",
   "metadata": {},
   "outputs": [
    {
     "data": {
      "text/html": [
       "<div>\n",
       "<style scoped>\n",
       "    .dataframe tbody tr th:only-of-type {\n",
       "        vertical-align: middle;\n",
       "    }\n",
       "\n",
       "    .dataframe tbody tr th {\n",
       "        vertical-align: top;\n",
       "    }\n",
       "\n",
       "    .dataframe thead th {\n",
       "        text-align: right;\n",
       "    }\n",
       "</style>\n",
       "<table border=\"1\" class=\"dataframe\">\n",
       "  <thead>\n",
       "    <tr style=\"text-align: right;\">\n",
       "      <th></th>\n",
       "      <th>Income</th>\n",
       "      <th>Age</th>\n",
       "      <th>Recency</th>\n",
       "      <th>Total_Spending</th>\n",
       "      <th>NumWebPurchases</th>\n",
       "      <th>NumStorePurchases</th>\n",
       "    </tr>\n",
       "  </thead>\n",
       "  <tbody>\n",
       "    <tr>\n",
       "      <th>Income</th>\n",
       "      <td>1.000000</td>\n",
       "      <td>0.161791</td>\n",
       "      <td>-0.003970</td>\n",
       "      <td>0.667576</td>\n",
       "      <td>0.387878</td>\n",
       "      <td>0.529362</td>\n",
       "    </tr>\n",
       "    <tr>\n",
       "      <th>Age</th>\n",
       "      <td>0.161791</td>\n",
       "      <td>1.000000</td>\n",
       "      <td>0.016295</td>\n",
       "      <td>0.113487</td>\n",
       "      <td>0.153051</td>\n",
       "      <td>0.127891</td>\n",
       "    </tr>\n",
       "    <tr>\n",
       "      <th>Recency</th>\n",
       "      <td>-0.003970</td>\n",
       "      <td>0.016295</td>\n",
       "      <td>1.000000</td>\n",
       "      <td>0.020066</td>\n",
       "      <td>-0.005641</td>\n",
       "      <td>-0.000434</td>\n",
       "    </tr>\n",
       "    <tr>\n",
       "      <th>Total_Spending</th>\n",
       "      <td>0.667576</td>\n",
       "      <td>0.113487</td>\n",
       "      <td>0.020066</td>\n",
       "      <td>1.000000</td>\n",
       "      <td>0.528973</td>\n",
       "      <td>0.675181</td>\n",
       "    </tr>\n",
       "    <tr>\n",
       "      <th>NumWebPurchases</th>\n",
       "      <td>0.387878</td>\n",
       "      <td>0.153051</td>\n",
       "      <td>-0.005641</td>\n",
       "      <td>0.528973</td>\n",
       "      <td>1.000000</td>\n",
       "      <td>0.516240</td>\n",
       "    </tr>\n",
       "    <tr>\n",
       "      <th>NumStorePurchases</th>\n",
       "      <td>0.529362</td>\n",
       "      <td>0.127891</td>\n",
       "      <td>-0.000434</td>\n",
       "      <td>0.675181</td>\n",
       "      <td>0.516240</td>\n",
       "      <td>1.000000</td>\n",
       "    </tr>\n",
       "  </tbody>\n",
       "</table>\n",
       "</div>"
      ],
      "text/plain": [
       "                     Income       Age   Recency  Total_Spending  \\\n",
       "Income             1.000000  0.161791 -0.003970        0.667576   \n",
       "Age                0.161791  1.000000  0.016295        0.113487   \n",
       "Recency           -0.003970  0.016295  1.000000        0.020066   \n",
       "Total_Spending     0.667576  0.113487  0.020066        1.000000   \n",
       "NumWebPurchases    0.387878  0.153051 -0.005641        0.528973   \n",
       "NumStorePurchases  0.529362  0.127891 -0.000434        0.675181   \n",
       "\n",
       "                   NumWebPurchases  NumStorePurchases  \n",
       "Income                    0.387878           0.529362  \n",
       "Age                       0.153051           0.127891  \n",
       "Recency                  -0.005641          -0.000434  \n",
       "Total_Spending            0.528973           0.675181  \n",
       "NumWebPurchases           1.000000           0.516240  \n",
       "NumStorePurchases         0.516240           1.000000  "
      ]
     },
     "execution_count": 64,
     "metadata": {},
     "output_type": "execute_result"
    }
   ],
   "source": [
    "corr"
   ]
  },
  {
   "cell_type": "code",
   "execution_count": 65,
   "id": "4d4c5a11",
   "metadata": {},
   "outputs": [
    {
     "data": {
      "image/png": "[encoded data removed]",
      "text/plain": [
       "<Figure size 640x480 with 2 Axes>"
      ]
     },
     "metadata": {},
     "output_type": "display_data"
    }
   ],
   "source": [
    "sns.heatmap(corr, annot=True, cmap = 'coolwarm')\n",
    "plt.title('Correlation Matrix')\n",
    "plt.show()"
   ]
  },
  {
   "cell_type": "code",
   "execution_count": 68,
   "id": "25ee1980",
   "metadata": {},
   "outputs": [],
   "source": [
    "pivot_income = file.pivot_table(values = 'Income', index = 'Education', columns = 'Marital_Status', aggfunc = 'mean')"
   ]
  },
  {
   "cell_type": "code",
   "execution_count": 69,
   "id": "87dd78d9",
   "metadata": {},
   "outputs": [
    {
     "data": {
      "text/html": [
       "<div>\n",
       "<style scoped>\n",
       "    .dataframe tbody tr th:only-of-type {\n",
       "        vertical-align: middle;\n",
       "    }\n",
       "\n",
       "    .dataframe tbody tr th {\n",
       "        vertical-align: top;\n",
       "    }\n",
       "\n",
       "    .dataframe thead th {\n",
       "        text-align: right;\n",
       "    }\n",
       "</style>\n",
       "<table border=\"1\" class=\"dataframe\">\n",
       "  <thead>\n",
       "    <tr style=\"text-align: right;\">\n",
       "      <th>Marital_Status</th>\n",
       "      <th>Absurd</th>\n",
       "      <th>Alone</th>\n",
       "      <th>Divorced</th>\n",
       "      <th>Married</th>\n",
       "      <th>Single</th>\n",
       "      <th>Together</th>\n",
       "      <th>Widow</th>\n",
       "      <th>YOLO</th>\n",
       "    </tr>\n",
       "    <tr>\n",
       "      <th>Education</th>\n",
       "      <th></th>\n",
       "      <th></th>\n",
       "      <th></th>\n",
       "      <th></th>\n",
       "      <th></th>\n",
       "      <th></th>\n",
       "      <th></th>\n",
       "      <th></th>\n",
       "    </tr>\n",
       "  </thead>\n",
       "  <tbody>\n",
       "    <tr>\n",
       "      <th>2n Cycle</th>\n",
       "      <td>NaN</td>\n",
       "      <td>NaN</td>\n",
       "      <td>49395.130435</td>\n",
       "      <td>46201.100000</td>\n",
       "      <td>53673.944444</td>\n",
       "      <td>44736.410714</td>\n",
       "      <td>51392.200000</td>\n",
       "      <td>NaN</td>\n",
       "    </tr>\n",
       "    <tr>\n",
       "      <th>Basic</th>\n",
       "      <td>NaN</td>\n",
       "      <td>NaN</td>\n",
       "      <td>9548.000000</td>\n",
       "      <td>21960.500000</td>\n",
       "      <td>18238.666667</td>\n",
       "      <td>21240.071429</td>\n",
       "      <td>22123.000000</td>\n",
       "      <td>NaN</td>\n",
       "    </tr>\n",
       "    <tr>\n",
       "      <th>Graduation</th>\n",
       "      <td>79244.0</td>\n",
       "      <td>34176.0</td>\n",
       "      <td>54526.042017</td>\n",
       "      <td>50800.258741</td>\n",
       "      <td>51322.182927</td>\n",
       "      <td>55758.480702</td>\n",
       "      <td>54976.657143</td>\n",
       "      <td>NaN</td>\n",
       "    </tr>\n",
       "    <tr>\n",
       "      <th>Master</th>\n",
       "      <td>65487.0</td>\n",
       "      <td>61331.0</td>\n",
       "      <td>50331.945946</td>\n",
       "      <td>53286.028986</td>\n",
       "      <td>53530.560000</td>\n",
       "      <td>52109.009804</td>\n",
       "      <td>58401.545455</td>\n",
       "      <td>NaN</td>\n",
       "    </tr>\n",
       "    <tr>\n",
       "      <th>PhD</th>\n",
       "      <td>NaN</td>\n",
       "      <td>35860.0</td>\n",
       "      <td>53096.615385</td>\n",
       "      <td>58138.031579</td>\n",
       "      <td>53314.614583</td>\n",
       "      <td>56041.422414</td>\n",
       "      <td>60288.083333</td>\n",
       "      <td>48432.0</td>\n",
       "    </tr>\n",
       "  </tbody>\n",
       "</table>\n",
       "</div>"
      ],
      "text/plain": [
       "Marital_Status   Absurd    Alone      Divorced       Married        Single  \\\n",
       "Education                                                                    \n",
       "2n Cycle            NaN      NaN  49395.130435  46201.100000  53673.944444   \n",
       "Basic               NaN      NaN   9548.000000  21960.500000  18238.666667   \n",
       "Graduation      79244.0  34176.0  54526.042017  50800.258741  51322.182927   \n",
       "Master          65487.0  61331.0  50331.945946  53286.028986  53530.560000   \n",
       "PhD                 NaN  35860.0  53096.615385  58138.031579  53314.614583   \n",
       "\n",
       "Marital_Status      Together         Widow     YOLO  \n",
       "Education                                            \n",
       "2n Cycle        44736.410714  51392.200000      NaN  \n",
       "Basic           21240.071429  22123.000000      NaN  \n",
       "Graduation      55758.480702  54976.657143      NaN  \n",
       "Master          52109.009804  58401.545455      NaN  \n",
       "PhD             56041.422414  60288.083333  48432.0  "
      ]
     },
     "execution_count": 69,
     "metadata": {},
     "output_type": "execute_result"
    }
   ],
   "source": [
    "pivot_income"
   ]
  },
  {
   "cell_type": "code",
   "execution_count": 70,
   "id": "e1869f24",
   "metadata": {},
   "outputs": [
    {
     "data": {
      "image/png": "[encoded data removed]",
      "text/plain": [
       "<Figure size 640x480 with 2 Axes>"
      ]
     },
     "metadata": {},
     "output_type": "display_data"
    }
   ],
   "source": [
    "sns.heatmap(pivot_income, annot = True, fmt='.0f', cmap = 'YlGnBu')\n",
    "plt.show()"
   ]
  },
  {
   "cell_type": "code",
   "execution_count": 71,
   "id": "443d0743",
   "metadata": {},
   "outputs": [],
   "source": [
    "group1 = file.groupby('Education')['Total_Spending'].mean().sort_values(ascending=False)"
   ]
  },
  {
   "cell_type": "code",
   "execution_count": 75,
   "id": "3ee33941",
   "metadata": {},
   "outputs": [
    {
     "data": {
      "image/png": "[encoded data removed]",
      "text/plain": [
       "<Figure size 640x480 with 1 Axes>"
      ]
     },
     "metadata": {},
     "output_type": "display_data"
    }
   ],
   "source": [
    "group1.plot(kind='bar', color='skyblue')\n",
    "plt.title('Average Spending by Education')\n",
    "plt.ylabel('Average Total Spending')\n",
    "plt.xticks(rotation = 45)\n",
    "plt.show()"
   ]
  },
  {
   "cell_type": "code",
   "execution_count": 78,
   "id": "8e53f0a7",
   "metadata": {},
   "outputs": [
    {
     "name": "stderr",
     "output_type": "stream",
     "text": [
      "C:\\Users\\HP\\AppData\\Local\\Temp\\ipykernel_6264\\3860800408.py:1: SettingWithCopyWarning: \n",
      "A value is trying to be set on a copy of a slice from a DataFrame.\n",
      "Try using .loc[row_indexer,col_indexer] = value instead\n",
      "\n",
      "See the caveats in the documentation: https://pandas.pydata.org/pandas-docs/stable/user_guide/indexing.html#returning-a-view-versus-a-copy\n",
      "  file['AcceptedAny'] = file[['AcceptedCmp1','AcceptedCmp2','AcceptedCmp3','AcceptedCmp4','AcceptedCmp5','Response']].sum(axis = 1)\n"
     ]
    }
   ],
   "source": [
    "file['AcceptedAny'] = file[['AcceptedCmp1','AcceptedCmp2','AcceptedCmp3','AcceptedCmp4','AcceptedCmp5','Response']].sum(axis = 1)"
   ]
  },
  {
   "cell_type": "code",
   "execution_count": 79,
   "id": "fd6bbd7c",
   "metadata": {},
   "outputs": [
    {
     "data": {
      "text/plain": [
       "array([1, 0, 3, 2, 4, 5])"
      ]
     },
     "execution_count": 79,
     "metadata": {},
     "output_type": "execute_result"
    }
   ],
   "source": [
    "file['AcceptedAny'].unique()"
   ]
  },
  {
   "cell_type": "code",
   "execution_count": 80,
   "id": "917a5ed4",
   "metadata": {},
   "outputs": [
    {
     "name": "stderr",
     "output_type": "stream",
     "text": [
      "C:\\Users\\HP\\AppData\\Local\\Temp\\ipykernel_6264\\799272544.py:1: SettingWithCopyWarning: \n",
      "A value is trying to be set on a copy of a slice from a DataFrame.\n",
      "Try using .loc[row_indexer,col_indexer] = value instead\n",
      "\n",
      "See the caveats in the documentation: https://pandas.pydata.org/pandas-docs/stable/user_guide/indexing.html#returning-a-view-versus-a-copy\n",
      "  file['AcceptedAny'] = file['AcceptedAny'].apply(lambda x: 1 if x > 0 else 0)\n"
     ]
    }
   ],
   "source": [
    "file['AcceptedAny'] = file['AcceptedAny'].apply(lambda x: 1 if x > 0 else 0)"
   ]
  },
  {
   "cell_type": "code",
   "execution_count": 81,
   "id": "f771edc5",
   "metadata": {},
   "outputs": [
    {
     "data": {
      "text/plain": [
       "array([1, 0])"
      ]
     },
     "execution_count": 81,
     "metadata": {},
     "output_type": "execute_result"
    }
   ],
   "source": [
    "file['AcceptedAny'].unique()"
   ]
  },
  {
   "cell_type": "code",
   "execution_count": 84,
   "id": "df084fdb",
   "metadata": {},
   "outputs": [],
   "source": [
    "group2 = file.groupby('Marital_Status')['AcceptedAny'].mean().sort_values(ascending=False)"
   ]
  },
  {
   "cell_type": "code",
   "execution_count": 85,
   "id": "396aa2a0",
   "metadata": {},
   "outputs": [
    {
     "data": {
      "text/plain": [
       "Marital_Status\n",
       "Absurd      0.500000\n",
       "YOLO        0.500000\n",
       "Widow       0.342105\n",
       "Alone       0.333333\n",
       "Single      0.312102\n",
       "Divorced    0.297414\n",
       "Married     0.252042\n",
       "Together    0.251309\n",
       "Name: AcceptedAny, dtype: float64"
      ]
     },
     "execution_count": 85,
     "metadata": {},
     "output_type": "execute_result"
    }
   ],
   "source": [
    "group2"
   ]
  },
  {
   "cell_type": "code",
   "execution_count": 86,
   "id": "246f5a03",
   "metadata": {},
   "outputs": [
    {
     "data": {
      "image/png": "[encoded data removed]",
      "text/plain": [
       "<Figure size 640x480 with 1 Axes>"
      ]
     },
     "metadata": {},
     "output_type": "display_data"
    }
   ],
   "source": [
    "group2.plot(kind='bar', color = 'orange')\n",
    "plt.title('Campaign Acceptance Rate by Marital Status')\n",
    "plt.ylabel('Acceptance ticks')\n",
    "plt.xticks(rotation = 45)\n",
    "plt.show()"
   ]
  },
  {
   "cell_type": "code",
   "execution_count": 87,
   "id": "1966c77f",
   "metadata": {},
   "outputs": [],
   "source": [
    "bins = [18, 30, 40, 50, 60, 70, 90]"
   ]
  },
  {
   "cell_type": "code",
   "execution_count": 88,
   "id": "e664a872",
   "metadata": {},
   "outputs": [],
   "source": [
    "labels = ['18-29', '30-39', '40-49', '50-59', '60-69', '70+']"
   ]
  },
  {
   "cell_type": "code",
   "execution_count": 90,
   "id": "159b185e",
   "metadata": {},
   "outputs": [
    {
     "name": "stderr",
     "output_type": "stream",
     "text": [
      "C:\\Users\\HP\\AppData\\Local\\Temp\\ipykernel_6264\\263848149.py:1: SettingWithCopyWarning: \n",
      "A value is trying to be set on a copy of a slice from a DataFrame.\n",
      "Try using .loc[row_indexer,col_indexer] = value instead\n",
      "\n",
      "See the caveats in the documentation: https://pandas.pydata.org/pandas-docs/stable/user_guide/indexing.html#returning-a-view-versus-a-copy\n",
      "  file['AgeGroup'] = pd.cut(file['Age'], bins = bins, labels = labels)\n"
     ]
    }
   ],
   "source": [
    "file['AgeGroup'] = pd.cut(file['Age'], bins = bins, labels = labels)"
   ]
  },
  {
   "cell_type": "code",
   "execution_count": 92,
   "id": "c685d75d",
   "metadata": {},
   "outputs": [
    {
     "data": {
      "text/plain": [
       "0       60-69\n",
       "1         70+\n",
       "2       50-59\n",
       "3       40-49\n",
       "4       40-49\n",
       "        ...  \n",
       "2235    50-59\n",
       "2236      70+\n",
       "2237    40-49\n",
       "2238    60-69\n",
       "2239      70+\n",
       "Name: AgeGroup, Length: 2216, dtype: category\n",
       "Categories (6, object): ['18-29' < '30-39' < '40-49' < '50-59' < '60-69' < '70+']"
      ]
     },
     "execution_count": 92,
     "metadata": {},
     "output_type": "execute_result"
    }
   ],
   "source": [
    "file['AgeGroup']"
   ]
  },
  {
   "cell_type": "code",
   "execution_count": 93,
   "id": "ddfbaf0f",
   "metadata": {},
   "outputs": [
    {
     "name": "stderr",
     "output_type": "stream",
     "text": [
      "C:\\Users\\HP\\AppData\\Local\\Temp\\ipykernel_6264\\3612136164.py:1: FutureWarning: The default of observed=False is deprecated and will be changed to True in a future version of pandas. Pass observed=False to retain current behavior or observed=True to adopt the future default and silence this warning.\n",
      "  group3 = file.groupby('AgeGroup')['Income'].mean()\n"
     ]
    }
   ],
   "source": [
    "group3 = file.groupby('AgeGroup')['Income'].mean()"
   ]
  },
  {
   "cell_type": "code",
   "execution_count": 94,
   "id": "41c5632d",
   "metadata": {},
   "outputs": [
    {
     "data": {
      "text/plain": [
       "AgeGroup\n",
       "18-29    46658.000000\n",
       "30-39    46283.028302\n",
       "40-49    49224.877034\n",
       "50-59    50812.913303\n",
       "60-69    56200.827887\n",
       "70+      58944.316294\n",
       "Name: Income, dtype: float64"
      ]
     },
     "execution_count": 94,
     "metadata": {},
     "output_type": "execute_result"
    }
   ],
   "source": [
    "group3"
   ]
  },
  {
   "cell_type": "code",
   "execution_count": 97,
   "id": "25d06196",
   "metadata": {},
   "outputs": [
    {
     "data": {
      "image/png": "[encoded data removed]",
      "text/plain": [
       "<Figure size 640x480 with 1 Axes>"
      ]
     },
     "metadata": {},
     "output_type": "display_data"
    }
   ],
   "source": [
    "group2.plot(kind='bar', color = 'green')\n",
    "plt.title('Average Income by Age Group')\n",
    "plt.xlabel('Average Income')\n",
    "plt.show()"
   ]
  },
  {
   "cell_type": "code",
   "execution_count": 98,
   "id": "186f7f93",
   "metadata": {},
   "outputs": [
    {
     "data": {
      "text/html": [
       "<div>\n",
       "<style scoped>\n",
       "    .dataframe tbody tr th:only-of-type {\n",
       "        vertical-align: middle;\n",
       "    }\n",
       "\n",
       "    .dataframe tbody tr th {\n",
       "        vertical-align: top;\n",
       "    }\n",
       "\n",
       "    .dataframe thead th {\n",
       "        text-align: right;\n",
       "    }\n",
       "</style>\n",
       "<table border=\"1\" class=\"dataframe\">\n",
       "  <thead>\n",
       "    <tr style=\"text-align: right;\">\n",
       "      <th></th>\n",
       "      <th>ID</th>\n",
       "      <th>Year_Birth</th>\n",
       "      <th>Education</th>\n",
       "      <th>Marital_Status</th>\n",
       "      <th>Income</th>\n",
       "      <th>Kidhome</th>\n",
       "      <th>Teenhome</th>\n",
       "      <th>Dt_Customer</th>\n",
       "      <th>Recency</th>\n",
       "      <th>MntWines</th>\n",
       "      <th>...</th>\n",
       "      <th>Complain</th>\n",
       "      <th>Z_CostContact</th>\n",
       "      <th>Z_Revenue</th>\n",
       "      <th>Response</th>\n",
       "      <th>Age</th>\n",
       "      <th>Total_Children</th>\n",
       "      <th>Total_Spending</th>\n",
       "      <th>Customer_Since</th>\n",
       "      <th>AcceptedAny</th>\n",
       "      <th>AgeGroup</th>\n",
       "    </tr>\n",
       "  </thead>\n",
       "  <tbody>\n",
       "    <tr>\n",
       "      <th>0</th>\n",
       "      <td>5524</td>\n",
       "      <td>1957</td>\n",
       "      <td>Graduation</td>\n",
       "      <td>Single</td>\n",
       "      <td>58138.0</td>\n",
       "      <td>0</td>\n",
       "      <td>0</td>\n",
       "      <td>2012-09-04</td>\n",
       "      <td>58</td>\n",
       "      <td>635</td>\n",
       "      <td>...</td>\n",
       "      <td>0</td>\n",
       "      <td>3</td>\n",
       "      <td>11</td>\n",
       "      <td>1</td>\n",
       "      <td>68</td>\n",
       "      <td>0</td>\n",
       "      <td>1617</td>\n",
       "      <td>4784</td>\n",
       "      <td>1</td>\n",
       "      <td>60-69</td>\n",
       "    </tr>\n",
       "    <tr>\n",
       "      <th>1</th>\n",
       "      <td>2174</td>\n",
       "      <td>1954</td>\n",
       "      <td>Graduation</td>\n",
       "      <td>Single</td>\n",
       "      <td>46344.0</td>\n",
       "      <td>1</td>\n",
       "      <td>1</td>\n",
       "      <td>2014-03-08</td>\n",
       "      <td>38</td>\n",
       "      <td>11</td>\n",
       "      <td>...</td>\n",
       "      <td>0</td>\n",
       "      <td>3</td>\n",
       "      <td>11</td>\n",
       "      <td>0</td>\n",
       "      <td>71</td>\n",
       "      <td>2</td>\n",
       "      <td>27</td>\n",
       "      <td>4234</td>\n",
       "      <td>0</td>\n",
       "      <td>70+</td>\n",
       "    </tr>\n",
       "    <tr>\n",
       "      <th>2</th>\n",
       "      <td>4141</td>\n",
       "      <td>1965</td>\n",
       "      <td>Graduation</td>\n",
       "      <td>Together</td>\n",
       "      <td>71613.0</td>\n",
       "      <td>0</td>\n",
       "      <td>0</td>\n",
       "      <td>2013-08-21</td>\n",
       "      <td>26</td>\n",
       "      <td>426</td>\n",
       "      <td>...</td>\n",
       "      <td>0</td>\n",
       "      <td>3</td>\n",
       "      <td>11</td>\n",
       "      <td>0</td>\n",
       "      <td>60</td>\n",
       "      <td>0</td>\n",
       "      <td>776</td>\n",
       "      <td>4433</td>\n",
       "      <td>0</td>\n",
       "      <td>50-59</td>\n",
       "    </tr>\n",
       "    <tr>\n",
       "      <th>3</th>\n",
       "      <td>6182</td>\n",
       "      <td>1984</td>\n",
       "      <td>Graduation</td>\n",
       "      <td>Together</td>\n",
       "      <td>26646.0</td>\n",
       "      <td>1</td>\n",
       "      <td>0</td>\n",
       "      <td>2014-02-10</td>\n",
       "      <td>26</td>\n",
       "      <td>11</td>\n",
       "      <td>...</td>\n",
       "      <td>0</td>\n",
       "      <td>3</td>\n",
       "      <td>11</td>\n",
       "      <td>0</td>\n",
       "      <td>41</td>\n",
       "      <td>1</td>\n",
       "      <td>53</td>\n",
       "      <td>4260</td>\n",
       "      <td>0</td>\n",
       "      <td>40-49</td>\n",
       "    </tr>\n",
       "    <tr>\n",
       "      <th>4</th>\n",
       "      <td>5324</td>\n",
       "      <td>1981</td>\n",
       "      <td>PhD</td>\n",
       "      <td>Married</td>\n",
       "      <td>58293.0</td>\n",
       "      <td>1</td>\n",
       "      <td>0</td>\n",
       "      <td>2014-01-19</td>\n",
       "      <td>94</td>\n",
       "      <td>173</td>\n",
       "      <td>...</td>\n",
       "      <td>0</td>\n",
       "      <td>3</td>\n",
       "      <td>11</td>\n",
       "      <td>0</td>\n",
       "      <td>44</td>\n",
       "      <td>1</td>\n",
       "      <td>422</td>\n",
       "      <td>4282</td>\n",
       "      <td>0</td>\n",
       "      <td>40-49</td>\n",
       "    </tr>\n",
       "  </tbody>\n",
       "</table>\n",
       "<p>5 rows × 35 columns</p>\n",
       "</div>"
      ],
      "text/plain": [
       "     ID  Year_Birth   Education Marital_Status   Income  Kidhome  Teenhome  \\\n",
       "0  5524        1957  Graduation         Single  58138.0        0         0   \n",
       "1  2174        1954  Graduation         Single  46344.0        1         1   \n",
       "2  4141        1965  Graduation       Together  71613.0        0         0   \n",
       "3  6182        1984  Graduation       Together  26646.0        1         0   \n",
       "4  5324        1981         PhD        Married  58293.0        1         0   \n",
       "\n",
       "  Dt_Customer  Recency  MntWines  ...  Complain  Z_CostContact  Z_Revenue  \\\n",
       "0  2012-09-04       58       635  ...         0              3         11   \n",
       "1  2014-03-08       38        11  ...         0              3         11   \n",
       "2  2013-08-21       26       426  ...         0              3         11   \n",
       "3  2014-02-10       26        11  ...         0              3         11   \n",
       "4  2014-01-19       94       173  ...         0              3         11   \n",
       "\n",
       "   Response  Age  Total_Children  Total_Spending  Customer_Since  AcceptedAny  \\\n",
       "0         1   68               0            1617            4784            1   \n",
       "1         0   71               2              27            4234            0   \n",
       "2         0   60               0             776            4433            0   \n",
       "3         0   41               1              53            4260            0   \n",
       "4         0   44               1             422            4282            0   \n",
       "\n",
       "   AgeGroup  \n",
       "0     60-69  \n",
       "1       70+  \n",
       "2     50-59  \n",
       "3     40-49  \n",
       "4     40-49  \n",
       "\n",
       "[5 rows x 35 columns]"
      ]
     },
     "execution_count": 98,
     "metadata": {},
     "output_type": "execute_result"
    }
   ],
   "source": [
    "file.head()"
   ]
  },
  {
   "cell_type": "code",
   "execution_count": 99,
   "id": "2bee0a4d",
   "metadata": {},
   "outputs": [
    {
     "data": {
      "text/plain": [
       "Index(['ID', 'Year_Birth', 'Education', 'Marital_Status', 'Income', 'Kidhome',\n",
       "       'Teenhome', 'Dt_Customer', 'Recency', 'MntWines', 'MntFruits',\n",
       "       'MntMeatProducts', 'MntFishProducts', 'MntSweetProducts',\n",
       "       'MntGoldProds', 'NumDealsPurchases', 'NumWebPurchases',\n",
       "       'NumCatalogPurchases', 'NumStorePurchases', 'NumWebVisitsMonth',\n",
       "       'AcceptedCmp3', 'AcceptedCmp4', 'AcceptedCmp5', 'AcceptedCmp1',\n",
       "       'AcceptedCmp2', 'Complain', 'Z_CostContact', 'Z_Revenue', 'Response',\n",
       "       'Age', 'Total_Children', 'Total_Spending', 'Customer_Since',\n",
       "       'AcceptedAny', 'AgeGroup'],\n",
       "      dtype='object')"
      ]
     },
     "execution_count": 99,
     "metadata": {},
     "output_type": "execute_result"
    }
   ],
   "source": [
    "file.columns"
   ]
  },
  {
   "cell_type": "code",
   "execution_count": null,
   "id": "96d5c018",
   "metadata": {},
   "outputs": [],
   "source": [
    "Age - Income - Total_Spending - NumWebPurchases - NumStorePurchases - NumWebVisitsMonth - Recency"
   ]
  },
  {
   "cell_type": "code",
   "execution_count": 100,
   "id": "c5c629ab",
   "metadata": {},
   "outputs": [],
   "source": [
    "features = ['Age', 'Income', 'Total_Spending', 'NumWebPurchases', 'NumStorePurchases', 'NumWebVisitsMonth' ,'Recency']"
   ]
  },
  {
   "cell_type": "code",
   "execution_count": 101,
   "id": "189a8395",
   "metadata": {},
   "outputs": [],
   "source": [
    "X = file[features].copy()"
   ]
  },
  {
   "cell_type": "code",
   "execution_count": 102,
   "id": "7a244d1e",
   "metadata": {},
   "outputs": [
    {
     "data": {
      "text/html": [
       "<div>\n",
       "<style scoped>\n",
       "    .dataframe tbody tr th:only-of-type {\n",
       "        vertical-align: middle;\n",
       "    }\n",
       "\n",
       "    .dataframe tbody tr th {\n",
       "        vertical-align: top;\n",
       "    }\n",
       "\n",
       "    .dataframe thead th {\n",
       "        text-align: right;\n",
       "    }\n",
       "</style>\n",
       "<table border=\"1\" class=\"dataframe\">\n",
       "  <thead>\n",
       "    <tr style=\"text-align: right;\">\n",
       "      <th></th>\n",
       "      <th>Age</th>\n",
       "      <th>Income</th>\n",
       "      <th>Total_Spending</th>\n",
       "      <th>NumWebPurchases</th>\n",
       "      <th>NumStorePurchases</th>\n",
       "      <th>NumWebVisitsMonth</th>\n",
       "      <th>Recency</th>\n",
       "    </tr>\n",
       "  </thead>\n",
       "  <tbody>\n",
       "    <tr>\n",
       "      <th>0</th>\n",
       "      <td>68</td>\n",
       "      <td>58138.0</td>\n",
       "      <td>1617</td>\n",
       "      <td>8</td>\n",
       "      <td>4</td>\n",
       "      <td>7</td>\n",
       "      <td>58</td>\n",
       "    </tr>\n",
       "    <tr>\n",
       "      <th>1</th>\n",
       "      <td>71</td>\n",
       "      <td>46344.0</td>\n",
       "      <td>27</td>\n",
       "      <td>1</td>\n",
       "      <td>2</td>\n",
       "      <td>5</td>\n",
       "      <td>38</td>\n",
       "    </tr>\n",
       "    <tr>\n",
       "      <th>2</th>\n",
       "      <td>60</td>\n",
       "      <td>71613.0</td>\n",
       "      <td>776</td>\n",
       "      <td>8</td>\n",
       "      <td>10</td>\n",
       "      <td>4</td>\n",
       "      <td>26</td>\n",
       "    </tr>\n",
       "    <tr>\n",
       "      <th>3</th>\n",
       "      <td>41</td>\n",
       "      <td>26646.0</td>\n",
       "      <td>53</td>\n",
       "      <td>2</td>\n",
       "      <td>4</td>\n",
       "      <td>6</td>\n",
       "      <td>26</td>\n",
       "    </tr>\n",
       "    <tr>\n",
       "      <th>4</th>\n",
       "      <td>44</td>\n",
       "      <td>58293.0</td>\n",
       "      <td>422</td>\n",
       "      <td>5</td>\n",
       "      <td>6</td>\n",
       "      <td>5</td>\n",
       "      <td>94</td>\n",
       "    </tr>\n",
       "    <tr>\n",
       "      <th>...</th>\n",
       "      <td>...</td>\n",
       "      <td>...</td>\n",
       "      <td>...</td>\n",
       "      <td>...</td>\n",
       "      <td>...</td>\n",
       "      <td>...</td>\n",
       "      <td>...</td>\n",
       "    </tr>\n",
       "    <tr>\n",
       "      <th>2235</th>\n",
       "      <td>58</td>\n",
       "      <td>61223.0</td>\n",
       "      <td>1341</td>\n",
       "      <td>9</td>\n",
       "      <td>4</td>\n",
       "      <td>5</td>\n",
       "      <td>46</td>\n",
       "    </tr>\n",
       "    <tr>\n",
       "      <th>2236</th>\n",
       "      <td>79</td>\n",
       "      <td>64014.0</td>\n",
       "      <td>444</td>\n",
       "      <td>8</td>\n",
       "      <td>5</td>\n",
       "      <td>7</td>\n",
       "      <td>56</td>\n",
       "    </tr>\n",
       "    <tr>\n",
       "      <th>2237</th>\n",
       "      <td>44</td>\n",
       "      <td>56981.0</td>\n",
       "      <td>1241</td>\n",
       "      <td>2</td>\n",
       "      <td>13</td>\n",
       "      <td>6</td>\n",
       "      <td>91</td>\n",
       "    </tr>\n",
       "    <tr>\n",
       "      <th>2238</th>\n",
       "      <td>69</td>\n",
       "      <td>69245.0</td>\n",
       "      <td>843</td>\n",
       "      <td>6</td>\n",
       "      <td>10</td>\n",
       "      <td>3</td>\n",
       "      <td>8</td>\n",
       "    </tr>\n",
       "    <tr>\n",
       "      <th>2239</th>\n",
       "      <td>71</td>\n",
       "      <td>52869.0</td>\n",
       "      <td>172</td>\n",
       "      <td>3</td>\n",
       "      <td>4</td>\n",
       "      <td>7</td>\n",
       "      <td>40</td>\n",
       "    </tr>\n",
       "  </tbody>\n",
       "</table>\n",
       "<p>2216 rows × 7 columns</p>\n",
       "</div>"
      ],
      "text/plain": [
       "      Age   Income  Total_Spending  NumWebPurchases  NumStorePurchases  \\\n",
       "0      68  58138.0            1617                8                  4   \n",
       "1      71  46344.0              27                1                  2   \n",
       "2      60  71613.0             776                8                 10   \n",
       "3      41  26646.0              53                2                  4   \n",
       "4      44  58293.0             422                5                  6   \n",
       "...   ...      ...             ...              ...                ...   \n",
       "2235   58  61223.0            1341                9                  4   \n",
       "2236   79  64014.0             444                8                  5   \n",
       "2237   44  56981.0            1241                2                 13   \n",
       "2238   69  69245.0             843                6                 10   \n",
       "2239   71  52869.0             172                3                  4   \n",
       "\n",
       "      NumWebVisitsMonth  Recency  \n",
       "0                     7       58  \n",
       "1                     5       38  \n",
       "2                     4       26  \n",
       "3                     6       26  \n",
       "4                     5       94  \n",
       "...                 ...      ...  \n",
       "2235                  5       46  \n",
       "2236                  7       56  \n",
       "2237                  6       91  \n",
       "2238                  3        8  \n",
       "2239                  7       40  \n",
       "\n",
       "[2216 rows x 7 columns]"
      ]
     },
     "execution_count": 102,
     "metadata": {},
     "output_type": "execute_result"
    }
   ],
   "source": [
    "X"
   ]
  },
  {
   "cell_type": "code",
   "execution_count": 104,
   "id": "c6d1d506",
   "metadata": {},
   "outputs": [],
   "source": [
    "from sklearn.preprocessing import StandardScaler\n",
    "scaler = StandardScaler()"
   ]
  },
  {
   "cell_type": "code",
   "execution_count": 105,
   "id": "1fcdbc9e",
   "metadata": {},
   "outputs": [],
   "source": [
    "X_scaled = scaler.fit_transform(X)"
   ]
  },
  {
   "cell_type": "code",
   "execution_count": 106,
   "id": "dbdc86a5",
   "metadata": {},
   "outputs": [
    {
     "data": {
      "text/plain": [
       "array([[ 0.98644293,  0.2340627 ,  1.67548812, ..., -0.55414289,\n",
       "         0.69323197,  0.31053212],\n",
       "       [ 1.23680074, -0.23455948, -0.96235832, ..., -1.16951781,\n",
       "        -0.1315745 , -0.38050944],\n",
       "       [ 0.31882209,  0.76947764,  0.28024985, ...,  1.29198186,\n",
       "        -0.54397773, -0.79513438],\n",
       "       ...,\n",
       "       [-1.01641959,  0.18809052,  1.05169551, ...,  2.21504423,\n",
       "         0.28082874,  1.4507507 ],\n",
       "       [ 1.06989553,  0.67538765,  0.39140438, ...,  1.29198186,\n",
       "        -0.95638097, -1.41707178],\n",
       "       [ 1.23680074,  0.02470453, -0.7218    , ..., -0.55414289,\n",
       "         0.69323197, -0.31140528]], shape=(2216, 7))"
      ]
     },
     "execution_count": 106,
     "metadata": {},
     "output_type": "execute_result"
    }
   ],
   "source": [
    "X_scaled"
   ]
  },
  {
   "cell_type": "markdown",
   "id": "171d2714",
   "metadata": {},
   "source": [
    "# K means clustering"
   ]
  },
  {
   "cell_type": "code",
   "execution_count": 108,
   "id": "9b2298a3",
   "metadata": {},
   "outputs": [],
   "source": [
    "from sklearn.cluster import KMeans"
   ]
  },
  {
   "cell_type": "code",
   "execution_count": 109,
   "id": "deb488d1",
   "metadata": {},
   "outputs": [],
   "source": [
    "WCSS = [] #empty list for inertia"
   ]
  },
  {
   "cell_type": "code",
   "execution_count": null,
   "id": "c4a4dca7",
   "metadata": {},
   "outputs": [],
   "source": [
    "for i in range(2, 10):\n",
    "    kmeans = KMeans(n_clusters=i)\n",
    "    kmeans.fit(X_scaled)\n",
    "    WCSS.append(kmeans.inertia_)"
   ]
  },
  {
   "cell_type": "code",
   "execution_count": 111,
   "id": "4464d933",
   "metadata": {},
   "outputs": [
    {
     "data": {
      "text/plain": [
       "[10218.62014374878,\n",
       " 9007.804122310004,\n",
       " 8242.534078534882,\n",
       " 7680.958742025186,\n",
       " 7092.842564081018,\n",
       " 6651.239530224024,\n",
       " 6430.808282424216,\n",
       " 5898.70243531423]"
      ]
     },
     "execution_count": 111,
     "metadata": {},
     "output_type": "execute_result"
    }
   ],
   "source": [
    "WCSS"
   ]
  },
  {
   "cell_type": "code",
   "execution_count": 114,
   "id": "0f6dd6ed",
   "metadata": {},
   "outputs": [
    {
     "data": {
      "image/png": "[encoded data removed]",
      "text/plain": [
       "<Figure size 640x480 with 1 Axes>"
      ]
     },
     "metadata": {},
     "output_type": "display_data"
    }
   ],
   "source": [
    "plt.plot(range(2,10),WCSS,marker = 'x')\n",
    "plt.title('Elbow Method for optimal K')\n",
    "plt.xlabel('Number of Clusters')\n",
    "plt.ylabel('WCSS')\n",
    "plt.show()"
   ]
  },
  {
   "cell_type": "code",
   "execution_count": 115,
   "id": "370efb08",
   "metadata": {},
   "outputs": [
    {
     "name": "stderr",
     "output_type": "stream",
     "text": [
      "C:\\Users\\HP\\AppData\\Local\\Temp\\ipykernel_6264\\3473984313.py:2: SettingWithCopyWarning: \n",
      "A value is trying to be set on a copy of a slice from a DataFrame.\n",
      "Try using .loc[row_indexer,col_indexer] = value instead\n",
      "\n",
      "See the caveats in the documentation: https://pandas.pydata.org/pandas-docs/stable/user_guide/indexing.html#returning-a-view-versus-a-copy\n",
      "  file['Cluster'] = kmeans.fit_predict(X_scaled)\n"
     ]
    }
   ],
   "source": [
    "kmeans = KMeans(n_clusters= 6) #chose that the number of clusters will be 6 cluster, thereby creating the KMeans model\n",
    "file['Cluster'] = kmeans.fit_predict(X_scaled)"
   ]
  },
  {
   "cell_type": "code",
   "execution_count": 116,
   "id": "ded0f03b",
   "metadata": {},
   "outputs": [
    {
     "data": {
      "text/html": [
       "<div>\n",
       "<style scoped>\n",
       "    .dataframe tbody tr th:only-of-type {\n",
       "        vertical-align: middle;\n",
       "    }\n",
       "\n",
       "    .dataframe tbody tr th {\n",
       "        vertical-align: top;\n",
       "    }\n",
       "\n",
       "    .dataframe thead th {\n",
       "        text-align: right;\n",
       "    }\n",
       "</style>\n",
       "<table border=\"1\" class=\"dataframe\">\n",
       "  <thead>\n",
       "    <tr style=\"text-align: right;\">\n",
       "      <th></th>\n",
       "      <th>ID</th>\n",
       "      <th>Year_Birth</th>\n",
       "      <th>Education</th>\n",
       "      <th>Marital_Status</th>\n",
       "      <th>Income</th>\n",
       "      <th>Kidhome</th>\n",
       "      <th>Teenhome</th>\n",
       "      <th>Dt_Customer</th>\n",
       "      <th>Recency</th>\n",
       "      <th>MntWines</th>\n",
       "      <th>...</th>\n",
       "      <th>Z_CostContact</th>\n",
       "      <th>Z_Revenue</th>\n",
       "      <th>Response</th>\n",
       "      <th>Age</th>\n",
       "      <th>Total_Children</th>\n",
       "      <th>Total_Spending</th>\n",
       "      <th>Customer_Since</th>\n",
       "      <th>AcceptedAny</th>\n",
       "      <th>AgeGroup</th>\n",
       "      <th>Cluster</th>\n",
       "    </tr>\n",
       "  </thead>\n",
       "  <tbody>\n",
       "    <tr>\n",
       "      <th>0</th>\n",
       "      <td>5524</td>\n",
       "      <td>1957</td>\n",
       "      <td>Graduation</td>\n",
       "      <td>Single</td>\n",
       "      <td>58138.0</td>\n",
       "      <td>0</td>\n",
       "      <td>0</td>\n",
       "      <td>2012-09-04</td>\n",
       "      <td>58</td>\n",
       "      <td>635</td>\n",
       "      <td>...</td>\n",
       "      <td>3</td>\n",
       "      <td>11</td>\n",
       "      <td>1</td>\n",
       "      <td>68</td>\n",
       "      <td>0</td>\n",
       "      <td>1617</td>\n",
       "      <td>4784</td>\n",
       "      <td>1</td>\n",
       "      <td>60-69</td>\n",
       "      <td>0</td>\n",
       "    </tr>\n",
       "    <tr>\n",
       "      <th>1</th>\n",
       "      <td>2174</td>\n",
       "      <td>1954</td>\n",
       "      <td>Graduation</td>\n",
       "      <td>Single</td>\n",
       "      <td>46344.0</td>\n",
       "      <td>1</td>\n",
       "      <td>1</td>\n",
       "      <td>2014-03-08</td>\n",
       "      <td>38</td>\n",
       "      <td>11</td>\n",
       "      <td>...</td>\n",
       "      <td>3</td>\n",
       "      <td>11</td>\n",
       "      <td>0</td>\n",
       "      <td>71</td>\n",
       "      <td>2</td>\n",
       "      <td>27</td>\n",
       "      <td>4234</td>\n",
       "      <td>0</td>\n",
       "      <td>70+</td>\n",
       "      <td>3</td>\n",
       "    </tr>\n",
       "    <tr>\n",
       "      <th>2</th>\n",
       "      <td>4141</td>\n",
       "      <td>1965</td>\n",
       "      <td>Graduation</td>\n",
       "      <td>Together</td>\n",
       "      <td>71613.0</td>\n",
       "      <td>0</td>\n",
       "      <td>0</td>\n",
       "      <td>2013-08-21</td>\n",
       "      <td>26</td>\n",
       "      <td>426</td>\n",
       "      <td>...</td>\n",
       "      <td>3</td>\n",
       "      <td>11</td>\n",
       "      <td>0</td>\n",
       "      <td>60</td>\n",
       "      <td>0</td>\n",
       "      <td>776</td>\n",
       "      <td>4433</td>\n",
       "      <td>0</td>\n",
       "      <td>50-59</td>\n",
       "      <td>0</td>\n",
       "    </tr>\n",
       "    <tr>\n",
       "      <th>3</th>\n",
       "      <td>6182</td>\n",
       "      <td>1984</td>\n",
       "      <td>Graduation</td>\n",
       "      <td>Together</td>\n",
       "      <td>26646.0</td>\n",
       "      <td>1</td>\n",
       "      <td>0</td>\n",
       "      <td>2014-02-10</td>\n",
       "      <td>26</td>\n",
       "      <td>11</td>\n",
       "      <td>...</td>\n",
       "      <td>3</td>\n",
       "      <td>11</td>\n",
       "      <td>0</td>\n",
       "      <td>41</td>\n",
       "      <td>1</td>\n",
       "      <td>53</td>\n",
       "      <td>4260</td>\n",
       "      <td>0</td>\n",
       "      <td>40-49</td>\n",
       "      <td>3</td>\n",
       "    </tr>\n",
       "    <tr>\n",
       "      <th>4</th>\n",
       "      <td>5324</td>\n",
       "      <td>1981</td>\n",
       "      <td>PhD</td>\n",
       "      <td>Married</td>\n",
       "      <td>58293.0</td>\n",
       "      <td>1</td>\n",
       "      <td>0</td>\n",
       "      <td>2014-01-19</td>\n",
       "      <td>94</td>\n",
       "      <td>173</td>\n",
       "      <td>...</td>\n",
       "      <td>3</td>\n",
       "      <td>11</td>\n",
       "      <td>0</td>\n",
       "      <td>44</td>\n",
       "      <td>1</td>\n",
       "      <td>422</td>\n",
       "      <td>4282</td>\n",
       "      <td>0</td>\n",
       "      <td>40-49</td>\n",
       "      <td>1</td>\n",
       "    </tr>\n",
       "  </tbody>\n",
       "</table>\n",
       "<p>5 rows × 36 columns</p>\n",
       "</div>"
      ],
      "text/plain": [
       "     ID  Year_Birth   Education Marital_Status   Income  Kidhome  Teenhome  \\\n",
       "0  5524        1957  Graduation         Single  58138.0        0         0   \n",
       "1  2174        1954  Graduation         Single  46344.0        1         1   \n",
       "2  4141        1965  Graduation       Together  71613.0        0         0   \n",
       "3  6182        1984  Graduation       Together  26646.0        1         0   \n",
       "4  5324        1981         PhD        Married  58293.0        1         0   \n",
       "\n",
       "  Dt_Customer  Recency  MntWines  ...  Z_CostContact  Z_Revenue  Response  \\\n",
       "0  2012-09-04       58       635  ...              3         11         1   \n",
       "1  2014-03-08       38        11  ...              3         11         0   \n",
       "2  2013-08-21       26       426  ...              3         11         0   \n",
       "3  2014-02-10       26        11  ...              3         11         0   \n",
       "4  2014-01-19       94       173  ...              3         11         0   \n",
       "\n",
       "   Age  Total_Children  Total_Spending  Customer_Since  AcceptedAny  AgeGroup  \\\n",
       "0   68               0            1617            4784            1     60-69   \n",
       "1   71               2              27            4234            0       70+   \n",
       "2   60               0             776            4433            0     50-59   \n",
       "3   41               1              53            4260            0     40-49   \n",
       "4   44               1             422            4282            0     40-49   \n",
       "\n",
       "   Cluster  \n",
       "0        0  \n",
       "1        3  \n",
       "2        0  \n",
       "3        3  \n",
       "4        1  \n",
       "\n",
       "[5 rows x 36 columns]"
      ]
     },
     "execution_count": 116,
     "metadata": {},
     "output_type": "execute_result"
    }
   ],
   "source": [
    "file.head()"
   ]
  },
  {
   "cell_type": "markdown",
   "id": "911c84c8",
   "metadata": {},
   "source": [
    "# Cluster Summary "
   ]
  },
  {
   "cell_type": "code",
   "execution_count": 117,
   "id": "658eb0ca",
   "metadata": {},
   "outputs": [],
   "source": [
    "cluster_summary  = file.groupby('Cluster')[features].mean()"
   ]
  },
  {
   "cell_type": "code",
   "execution_count": 118,
   "id": "022df898",
   "metadata": {},
   "outputs": [
    {
     "data": {
      "text/html": [
       "<div>\n",
       "<style scoped>\n",
       "    .dataframe tbody tr th:only-of-type {\n",
       "        vertical-align: middle;\n",
       "    }\n",
       "\n",
       "    .dataframe tbody tr th {\n",
       "        vertical-align: top;\n",
       "    }\n",
       "\n",
       "    .dataframe thead th {\n",
       "        text-align: right;\n",
       "    }\n",
       "</style>\n",
       "<table border=\"1\" class=\"dataframe\">\n",
       "  <thead>\n",
       "    <tr style=\"text-align: right;\">\n",
       "      <th></th>\n",
       "      <th>Age</th>\n",
       "      <th>Income</th>\n",
       "      <th>Total_Spending</th>\n",
       "      <th>NumWebPurchases</th>\n",
       "      <th>NumStorePurchases</th>\n",
       "      <th>NumWebVisitsMonth</th>\n",
       "      <th>Recency</th>\n",
       "    </tr>\n",
       "    <tr>\n",
       "      <th>Cluster</th>\n",
       "      <th></th>\n",
       "      <th></th>\n",
       "      <th></th>\n",
       "      <th></th>\n",
       "      <th></th>\n",
       "      <th></th>\n",
       "      <th></th>\n",
       "    </tr>\n",
       "  </thead>\n",
       "  <tbody>\n",
       "    <tr>\n",
       "      <th>0</th>\n",
       "      <td>58.110320</td>\n",
       "      <td>62255.921708</td>\n",
       "      <td>1037.597865</td>\n",
       "      <td>8.298932</td>\n",
       "      <td>8.896797</td>\n",
       "      <td>6.167260</td>\n",
       "      <td>62.377224</td>\n",
       "    </tr>\n",
       "    <tr>\n",
       "      <th>1</th>\n",
       "      <td>55.068627</td>\n",
       "      <td>36444.705882</td>\n",
       "      <td>127.460784</td>\n",
       "      <td>2.354902</td>\n",
       "      <td>3.437255</td>\n",
       "      <td>6.358824</td>\n",
       "      <td>76.147059</td>\n",
       "    </tr>\n",
       "    <tr>\n",
       "      <th>2</th>\n",
       "      <td>69.611486</td>\n",
       "      <td>74062.307432</td>\n",
       "      <td>1181.979730</td>\n",
       "      <td>4.358108</td>\n",
       "      <td>8.226351</td>\n",
       "      <td>2.358108</td>\n",
       "      <td>55.212838</td>\n",
       "    </tr>\n",
       "    <tr>\n",
       "      <th>3</th>\n",
       "      <td>50.941176</td>\n",
       "      <td>32047.723529</td>\n",
       "      <td>83.060784</td>\n",
       "      <td>1.892157</td>\n",
       "      <td>2.992157</td>\n",
       "      <td>6.649020</td>\n",
       "      <td>26.362745</td>\n",
       "    </tr>\n",
       "    <tr>\n",
       "      <th>4</th>\n",
       "      <td>46.044444</td>\n",
       "      <td>78909.358730</td>\n",
       "      <td>1316.438095</td>\n",
       "      <td>4.596825</td>\n",
       "      <td>8.571429</td>\n",
       "      <td>2.622222</td>\n",
       "      <td>46.419048</td>\n",
       "    </tr>\n",
       "    <tr>\n",
       "      <th>5</th>\n",
       "      <td>62.470395</td>\n",
       "      <td>54526.200658</td>\n",
       "      <td>598.039474</td>\n",
       "      <td>5.976974</td>\n",
       "      <td>6.384868</td>\n",
       "      <td>6.236842</td>\n",
       "      <td>25.786184</td>\n",
       "    </tr>\n",
       "  </tbody>\n",
       "</table>\n",
       "</div>"
      ],
      "text/plain": [
       "               Age        Income  Total_Spending  NumWebPurchases  \\\n",
       "Cluster                                                             \n",
       "0        58.110320  62255.921708     1037.597865         8.298932   \n",
       "1        55.068627  36444.705882      127.460784         2.354902   \n",
       "2        69.611486  74062.307432     1181.979730         4.358108   \n",
       "3        50.941176  32047.723529       83.060784         1.892157   \n",
       "4        46.044444  78909.358730     1316.438095         4.596825   \n",
       "5        62.470395  54526.200658      598.039474         5.976974   \n",
       "\n",
       "         NumStorePurchases  NumWebVisitsMonth    Recency  \n",
       "Cluster                                                   \n",
       "0                 8.896797           6.167260  62.377224  \n",
       "1                 3.437255           6.358824  76.147059  \n",
       "2                 8.226351           2.358108  55.212838  \n",
       "3                 2.992157           6.649020  26.362745  \n",
       "4                 8.571429           2.622222  46.419048  \n",
       "5                 6.384868           6.236842  25.786184  "
      ]
     },
     "execution_count": 118,
     "metadata": {},
     "output_type": "execute_result"
    }
   ],
   "source": [
    "cluster_summary"
   ]
  },
  {
   "cell_type": "code",
   "execution_count": 120,
   "id": "10ae0057",
   "metadata": {},
   "outputs": [
    {
     "data": {
      "text/plain": [
       "Cluster\n",
       "3    510\n",
       "1    510\n",
       "4    315\n",
       "5    304\n",
       "2    296\n",
       "0    281\n",
       "Name: count, dtype: int64"
      ]
     },
     "execution_count": 120,
     "metadata": {},
     "output_type": "execute_result"
    }
   ],
   "source": [
    "file['Cluster'].value_counts()"
   ]
  },
  {
   "cell_type": "code",
   "execution_count": 121,
   "id": "ca754d63",
   "metadata": {},
   "outputs": [
    {
     "name": "stderr",
     "output_type": "stream",
     "text": [
      "C:\\Users\\HP\\AppData\\Local\\Temp\\ipykernel_6264\\4294831312.py:6: SettingWithCopyWarning: \n",
      "A value is trying to be set on a copy of a slice from a DataFrame.\n",
      "Try using .loc[row_indexer,col_indexer] = value instead\n",
      "\n",
      "See the caveats in the documentation: https://pandas.pydata.org/pandas-docs/stable/user_guide/indexing.html#returning-a-view-versus-a-copy\n",
      "  file['PCA1'], file['PCA2'] = pca_data[:,0], pca_data[:,1]\n",
      "C:\\Users\\HP\\AppData\\Local\\Temp\\ipykernel_6264\\4294831312.py:6: SettingWithCopyWarning: \n",
      "A value is trying to be set on a copy of a slice from a DataFrame.\n",
      "Try using .loc[row_indexer,col_indexer] = value instead\n",
      "\n",
      "See the caveats in the documentation: https://pandas.pydata.org/pandas-docs/stable/user_guide/indexing.html#returning-a-view-versus-a-copy\n",
      "  file['PCA1'], file['PCA2'] = pca_data[:,0], pca_data[:,1]\n"
     ]
    }
   ],
   "source": [
    "# Visualizing the cluster\n",
    "from sklearn.decomposition import PCA\n",
    "\n",
    "pca = PCA(n_components= 2)\n",
    "pca_data = pca.fit_transform(X_scaled)\n",
    "file['PCA1'], file['PCA2'] = pca_data[:,0], pca_data[:,1]"
   ]
  },
  {
   "cell_type": "code",
   "execution_count": 122,
   "id": "ee41be56",
   "metadata": {},
   "outputs": [
    {
     "data": {
      "text/plain": [
       "array([[ 1.1075188 , -0.21175951],\n",
       "       [-1.33673385,  0.269839  ],\n",
       "       [ 1.88227676, -1.01416098],\n",
       "       ...,\n",
       "       [ 1.1535966 ,  1.15056999],\n",
       "       [ 1.88768024, -1.16073698],\n",
       "       [-0.84182091, -0.15963623]], shape=(2216, 2))"
      ]
     },
     "execution_count": 122,
     "metadata": {},
     "output_type": "execute_result"
    }
   ],
   "source": [
    "pca_data"
   ]
  },
  {
   "cell_type": "code",
   "execution_count": 123,
   "id": "a463a3b4",
   "metadata": {},
   "outputs": [
    {
     "data": {
      "text/plain": [
       "0       1.107519\n",
       "1      -1.336734\n",
       "2       1.882277\n",
       "3      -1.784359\n",
       "4       0.020363\n",
       "          ...   \n",
       "2235    1.248177\n",
       "2236    0.508708\n",
       "2237    1.153597\n",
       "2238    1.887680\n",
       "2239   -0.841821\n",
       "Name: PCA1, Length: 2216, dtype: float64"
      ]
     },
     "execution_count": 123,
     "metadata": {},
     "output_type": "execute_result"
    }
   ],
   "source": [
    "file['PCA1']"
   ]
  },
  {
   "cell_type": "code",
   "execution_count": 125,
   "id": "cd510fad",
   "metadata": {},
   "outputs": [
    {
     "data": {
      "image/png": "[encoded data removed]",
      "text/plain": [
       "<Figure size 640x480 with 1 Axes>"
      ]
     },
     "metadata": {},
     "output_type": "display_data"
    }
   ],
   "source": [
    "# SCATTER PLOTTING  OF CLUSTERS WITH PCA\n",
    "sns.scatterplot(x='PCA1', y='PCA2', hue='Cluster', data = file, palette='Set1')\n",
    "plt.title('Customer Segmentation (PCA)')\n",
    "plt.show()"
   ]
  },
  {
   "cell_type": "code",
   "execution_count": 126,
   "id": "44ddf272",
   "metadata": {},
   "outputs": [
    {
     "data": {
      "text/html": [
       "<div>\n",
       "<style scoped>\n",
       "    .dataframe tbody tr th:only-of-type {\n",
       "        vertical-align: middle;\n",
       "    }\n",
       "\n",
       "    .dataframe tbody tr th {\n",
       "        vertical-align: top;\n",
       "    }\n",
       "\n",
       "    .dataframe thead th {\n",
       "        text-align: right;\n",
       "    }\n",
       "</style>\n",
       "<table border=\"1\" class=\"dataframe\">\n",
       "  <thead>\n",
       "    <tr style=\"text-align: right;\">\n",
       "      <th></th>\n",
       "      <th>Age</th>\n",
       "      <th>Income</th>\n",
       "      <th>Total_Spending</th>\n",
       "      <th>NumWebPurchases</th>\n",
       "      <th>NumStorePurchases</th>\n",
       "      <th>NumWebVisitsMonth</th>\n",
       "      <th>Recency</th>\n",
       "    </tr>\n",
       "    <tr>\n",
       "      <th>Cluster</th>\n",
       "      <th></th>\n",
       "      <th></th>\n",
       "      <th></th>\n",
       "      <th></th>\n",
       "      <th></th>\n",
       "      <th></th>\n",
       "      <th></th>\n",
       "    </tr>\n",
       "  </thead>\n",
       "  <tbody>\n",
       "    <tr>\n",
       "      <th>0</th>\n",
       "      <td>58.110320</td>\n",
       "      <td>62255.921708</td>\n",
       "      <td>1037.597865</td>\n",
       "      <td>8.298932</td>\n",
       "      <td>8.896797</td>\n",
       "      <td>6.167260</td>\n",
       "      <td>62.377224</td>\n",
       "    </tr>\n",
       "    <tr>\n",
       "      <th>1</th>\n",
       "      <td>55.068627</td>\n",
       "      <td>36444.705882</td>\n",
       "      <td>127.460784</td>\n",
       "      <td>2.354902</td>\n",
       "      <td>3.437255</td>\n",
       "      <td>6.358824</td>\n",
       "      <td>76.147059</td>\n",
       "    </tr>\n",
       "    <tr>\n",
       "      <th>2</th>\n",
       "      <td>69.611486</td>\n",
       "      <td>74062.307432</td>\n",
       "      <td>1181.979730</td>\n",
       "      <td>4.358108</td>\n",
       "      <td>8.226351</td>\n",
       "      <td>2.358108</td>\n",
       "      <td>55.212838</td>\n",
       "    </tr>\n",
       "    <tr>\n",
       "      <th>3</th>\n",
       "      <td>50.941176</td>\n",
       "      <td>32047.723529</td>\n",
       "      <td>83.060784</td>\n",
       "      <td>1.892157</td>\n",
       "      <td>2.992157</td>\n",
       "      <td>6.649020</td>\n",
       "      <td>26.362745</td>\n",
       "    </tr>\n",
       "    <tr>\n",
       "      <th>4</th>\n",
       "      <td>46.044444</td>\n",
       "      <td>78909.358730</td>\n",
       "      <td>1316.438095</td>\n",
       "      <td>4.596825</td>\n",
       "      <td>8.571429</td>\n",
       "      <td>2.622222</td>\n",
       "      <td>46.419048</td>\n",
       "    </tr>\n",
       "    <tr>\n",
       "      <th>5</th>\n",
       "      <td>62.470395</td>\n",
       "      <td>54526.200658</td>\n",
       "      <td>598.039474</td>\n",
       "      <td>5.976974</td>\n",
       "      <td>6.384868</td>\n",
       "      <td>6.236842</td>\n",
       "      <td>25.786184</td>\n",
       "    </tr>\n",
       "  </tbody>\n",
       "</table>\n",
       "</div>"
      ],
      "text/plain": [
       "               Age        Income  Total_Spending  NumWebPurchases  \\\n",
       "Cluster                                                             \n",
       "0        58.110320  62255.921708     1037.597865         8.298932   \n",
       "1        55.068627  36444.705882      127.460784         2.354902   \n",
       "2        69.611486  74062.307432     1181.979730         4.358108   \n",
       "3        50.941176  32047.723529       83.060784         1.892157   \n",
       "4        46.044444  78909.358730     1316.438095         4.596825   \n",
       "5        62.470395  54526.200658      598.039474         5.976974   \n",
       "\n",
       "         NumStorePurchases  NumWebVisitsMonth    Recency  \n",
       "Cluster                                                   \n",
       "0                 8.896797           6.167260  62.377224  \n",
       "1                 3.437255           6.358824  76.147059  \n",
       "2                 8.226351           2.358108  55.212838  \n",
       "3                 2.992157           6.649020  26.362745  \n",
       "4                 8.571429           2.622222  46.419048  \n",
       "5                 6.384868           6.236842  25.786184  "
      ]
     },
     "execution_count": 126,
     "metadata": {},
     "output_type": "execute_result"
    }
   ],
   "source": [
    "cluster_summary"
   ]
  },
  {
   "cell_type": "markdown",
   "id": "7e0d9271",
   "metadata": {},
   "source": [
    "cluster 4 (Age 46+) - highest income earners and the highest spenders\n",
    "\n",
    "cluster 2 (Age 69+) - oldest cluster group, second highest income earners, second highest spenders\n",
    "\n",
    "cluster 3 (Age 50+) - lowest income earners, lowest spenders\n",
    "\n",
    "cluster 1 (Age 55+) - High recency - Most recent customers\n",
    "\n",
    "cluster 0 (Age 58+) - most likely people to buy from the company's websites, mostlikely people to buy from the store\n",
    "\n",
    "cluster 5 (62+) - lowest recency- dormant Customers\n",
    "\n"
   ]
  },
  {
   "cell_type": "code",
   "execution_count": 128,
   "id": "3f705d56",
   "metadata": {},
   "outputs": [
    {
     "data": {
      "text/plain": [
       "['kmeans_v172.pkl']"
      ]
     },
     "execution_count": 128,
     "metadata": {},
     "output_type": "execute_result"
    }
   ],
   "source": [
    "import joblib\n",
    "joblib.dump(scaler, 'scaler_v172.pkl')\n",
    "joblib.dump(kmeans, 'kmeans_v172.pkl')\n"
   ]
  }
 ],
 "metadata": {
  "kernelspec": {
   "display_name": "Python 3",
   "language": "python",
   "name": "python3"
  },
  "language_info": {
   "codemirror_mode": {
    "name": "ipython",
    "version": 3
   },
   "file_extension": ".py",
   "mimetype": "text/x-python",
   "name": "python",
   "nbconvert_exporter": "python",
   "pygments_lexer": "ipython3",
   "version": "3.11.4"
  }
 },
 "nbformat": 4,
 "nbformat_minor": 5
}
